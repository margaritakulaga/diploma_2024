{
 "cells": [
  {
   "cell_type": "markdown",
   "id": "b5c44c40",
   "metadata": {},
   "source": [
    "# Простейшие алгоритмы классификации"
   ]
  },
  {
   "cell_type": "markdown",
   "id": "c00c7fe0",
   "metadata": {},
   "source": [
    "## Подготовка данных."
   ]
  },
  {
   "cell_type": "code",
   "execution_count": null,
   "id": "9fcd05c3",
   "metadata": {},
   "outputs": [],
   "source": [
    "import numpy as np\n",
    "from matplotlib import pyplot as plt\n",
    "from sklearn.linear_model import LogisticRegression, Perceptron\n",
    "from sklearn.tree import DecisionTreeClassifier\n",
    "from sklearn.ensemble import RandomForestClassifier, GradientBoostingClassifier, GradientBoostingRegressor,RandomForestRegressor\n",
    "from sklearn.neighbors import KNeighborsClassifier\n",
    "from sklearn import tree\n",
    "import pandas as pd\n",
    "from sklearn.model_selection import train_test_split\n",
    "from sklearn.metrics import accuracy_score,confusion_matrix,roc_auc_score,roc_curve,auc,RocCurveDisplay, mean_squared_error\n",
    "from sklearn.model_selection import GridSearchCV, cross_val_score\n",
    "import sketch\n",
    "import seaborn as sns\n",
    "\n",
    "from sklearn.preprocessing import StandardScaler, MinMaxScaler, RobustScaler\n",
    "\n",
    "from sklearn.manifold import TSNE\n",
    "import warnings\n",
    "warnings.filterwarnings('ignore')\n",
    "\n",
    "from sklearn.impute import KNNImputer"
   ]
  },
  {
   "cell_type": "code",
   "execution_count": null,
   "id": "46693357-8fdc-4027-87f4-de9a39b33de0",
   "metadata": {},
   "outputs": [],
   "source": [
    "def get_price_var_col(year):\n",
    "    return f\"{year+1} PRICE VAR [%]\""
   ]
  },
  {
   "cell_type": "code",
   "execution_count": null,
   "id": "8deb4feb",
   "metadata": {},
   "outputs": [],
   "source": [
    "data2014 = pd.read_csv(r'C:\\Учеба\\Диплом\\2014_Financial_Data.csv')"
   ]
  },
  {
   "cell_type": "code",
   "execution_count": null,
   "id": "c13c97c0-9114-4171-b1fb-da75b9412a2a",
   "metadata": {},
   "outputs": [],
   "source": [
    "data2015 = pd.read_csv(r'C:\\Учеба\\Диплом\\2015_Financial_Data.csv')"
   ]
  },
  {
   "cell_type": "code",
   "execution_count": null,
   "id": "c9c81fe2-346f-4339-a44c-4ea25aef3f69",
   "metadata": {},
   "outputs": [],
   "source": [
    "data2016 = pd.read_csv(r'C:\\Учеба\\Диплом\\2016_Financial_Data.csv')"
   ]
  },
  {
   "cell_type": "code",
   "execution_count": null,
   "id": "f7d15268-4b74-4214-94e8-eca3221d5dde",
   "metadata": {},
   "outputs": [],
   "source": [
    "data2017 = pd.read_csv(r'C:\\Учеба\\Диплом\\2017_Financial_Data.csv')"
   ]
  },
  {
   "cell_type": "code",
   "execution_count": null,
   "id": "b0fe3bd5-348c-439e-aaff-c2faaddfcd56",
   "metadata": {},
   "outputs": [],
   "source": [
    "data2018 = pd.read_csv(r'C:\\Учеба\\Диплом\\2018_Financial_Data.csv')"
   ]
  },
  {
   "cell_type": "code",
   "execution_count": null,
   "id": "afe2afaa-a482-47c8-8f5d-b21a702abca8",
   "metadata": {},
   "outputs": [],
   "source": [
    "data2014.isna().sum().sort_values(ascending=False)"
   ]
  },
  {
   "cell_type": "code",
   "execution_count": null,
   "id": "54f4135c-8240-4cd3-acef-cb831102d42a",
   "metadata": {},
   "outputs": [],
   "source": [
    "data2014[data2014.columns[data2014.isna().sum()!=0]].isna().transpose().sum().sort_values()"
   ]
  },
  {
   "cell_type": "code",
   "execution_count": null,
   "id": "b1136c3d-09a3-4693-b035-6d2c2e4e5f4c",
   "metadata": {
    "scrolled": true
   },
   "outputs": [],
   "source": [
    "data2014[].isna().transpose().all().sum()"
   ]
  },
  {
   "cell_type": "code",
   "execution_count": null,
   "id": "2e939776-3629-44c8-8b84-480fd1b06e0c",
   "metadata": {},
   "outputs": [],
   "source": [
    "(~data2018['Unnamed: 0'].isin(data2014['Unnamed: 0'])).sum()"
   ]
  },
  {
   "cell_type": "code",
   "execution_count": null,
   "id": "ef069ae8-81d5-47a1-b651-354021cf0eae",
   "metadata": {},
   "outputs": [],
   "source": [
    "(~data2014['Unnamed: 0'].isin(data2018['Unnamed: 0'])).sum()"
   ]
  },
  {
   "cell_type": "code",
   "execution_count": null,
   "id": "7308bbc5-34b6-41ea-b57d-a27c17c8993a",
   "metadata": {},
   "outputs": [],
   "source": [
    "data2014['Unnamed: 0'].sort_values()"
   ]
  },
  {
   "cell_type": "code",
   "execution_count": null,
   "id": "91e1d70b-fa71-4764-9600-aede8c85542e",
   "metadata": {},
   "outputs": [],
   "source": [
    "sns.scatterplot([np.asarray(list(data2014['Revenue'].values)),np.asarray(list(data2018['Revenue'].values))])"
   ]
  },
  {
   "cell_type": "code",
   "execution_count": null,
   "id": "dab537eb-f1d6-4200-a91e-ef120b9fcc05",
   "metadata": {
    "scrolled": true
   },
   "outputs": [],
   "source": [
    "list(data2015['Revenue'].values)"
   ]
  },
  {
   "cell_type": "code",
   "execution_count": null,
   "id": "5e2899ac-3eab-4e52-910a-bd7f253d2e4b",
   "metadata": {
    "scrolled": true
   },
   "outputs": [],
   "source": [
    "data2014['Revenue'].fillna(data2014['Revenue'].mean(), inplace = True)\n",
    "data2014.isnull().sum()"
   ]
  },
  {
   "cell_type": "code",
   "execution_count": null,
   "id": "b13c64de-5a4e-4a9b-a609-15298911a997",
   "metadata": {},
   "outputs": [],
   "source": [
    "data2014.head()"
   ]
  },
  {
   "cell_type": "code",
   "execution_count": null,
   "id": "f954eebc-ac5d-438e-8481-6454c6b5f41d",
   "metadata": {},
   "outputs": [],
   "source": [
    "data2014copy=data2014"
   ]
  },
  {
   "cell_type": "code",
   "execution_count": null,
   "id": "0a858259-0d1b-44a2-a621-7059b8801f1d",
   "metadata": {},
   "outputs": [],
   "source": [
    "data2014copy.dtypes.value_counts()"
   ]
  },
  {
   "cell_type": "code",
   "execution_count": null,
   "id": "6a85d665-5a23-4878-87c0-deb480ee2b5e",
   "metadata": {},
   "outputs": [],
   "source": [
    "data2014['Free Cash Flow margin']"
   ]
  },
  {
   "cell_type": "code",
   "execution_count": null,
   "id": "d1093f38-a99b-4491-9b5b-676b0e08c9f8",
   "metadata": {},
   "outputs": [],
   "source": [
    "object_cols=data2014copy.select_dtypes(include=['object']).columns"
   ]
  },
  {
   "cell_type": "code",
   "execution_count": null,
   "id": "190f17f9-0bbd-43c5-b503-5249e525a938",
   "metadata": {},
   "outputs": [],
   "source": [
    "data2014[object_cols[1]].value_counts()"
   ]
  },
  {
   "cell_type": "code",
   "execution_count": null,
   "id": "bd4e2612-d583-413f-903a-dce78ed0c12a",
   "metadata": {},
   "outputs": [],
   "source": [
    "data2014copy=pd.get_dummies(data2014copy, columns=[object_cols[1]],dtype=int)"
   ]
  },
  {
   "cell_type": "code",
   "execution_count": null,
   "id": "f2c42444-b47c-4cff-9e04-fde7a1b02f0f",
   "metadata": {},
   "outputs": [],
   "source": [
    "object_cols[0]"
   ]
  },
  {
   "cell_type": "code",
   "execution_count": null,
   "id": "bef27ca8-8100-4308-80c2-a989ed59c469",
   "metadata": {},
   "outputs": [],
   "source": [
    "data2014copy[object_cols[0]].value_counts()"
   ]
  },
  {
   "cell_type": "code",
   "execution_count": null,
   "id": "142aa90d-c0ac-4a80-a90c-cf228ea5a59a",
   "metadata": {},
   "outputs": [],
   "source": [
    "data2014copy.columns[-1]"
   ]
  },
  {
   "cell_type": "code",
   "execution_count": null,
   "id": "0fa37091-81ef-4e37-9762-bfdbbeb66a69",
   "metadata": {},
   "outputs": [],
   "source": [
    "data2014copy.drop(columns=[object_cols[0]],axis=1,inplace=True)"
   ]
  },
  {
   "cell_type": "code",
   "execution_count": null,
   "id": "f36a4f46-2f43-4505-9a1f-bcd156591591",
   "metadata": {},
   "outputs": [],
   "source": [
    "data2014copy.isnull().sum()"
   ]
  },
  {
   "cell_type": "code",
   "execution_count": null,
   "id": "feaa90cb-c159-47a3-9857-e658228db1f2",
   "metadata": {},
   "outputs": [],
   "source": [
    "data2014copy.dtypes.value_counts()"
   ]
  },
  {
   "cell_type": "code",
   "execution_count": null,
   "id": "db5425a1-c9d3-4aef-9598-b4d365a5217b",
   "metadata": {},
   "outputs": [],
   "source": [
    "float_columns=data2014copy.select_dtypes(include=['float64']).columns"
   ]
  },
  {
   "cell_type": "code",
   "execution_count": null,
   "id": "8a7eeb56-8568-49cf-a6a8-e11e7f5b3123",
   "metadata": {},
   "outputs": [],
   "source": [
    "for i in float_columns:\n",
    "    data2014copy[i].fillna(data2014copy[i].median(), inplace=True)"
   ]
  },
  {
   "cell_type": "code",
   "execution_count": null,
   "id": "0bab9631-5f42-443d-9a59-16537e249a65",
   "metadata": {},
   "outputs": [],
   "source": [
    "data2014copy.isnull().sum().sum()"
   ]
  },
  {
   "cell_type": "code",
   "execution_count": null,
   "id": "edfb75b7-4470-44c1-86d4-d373ff041a08",
   "metadata": {},
   "outputs": [],
   "source": [
    "list(data2014copy.columns)"
   ]
  },
  {
   "cell_type": "code",
   "execution_count": null,
   "id": "fb0b950d-c578-4bd9-a77f-8b389eb2b5e1",
   "metadata": {},
   "outputs": [],
   "source": [
    "sns.boxplot(data2014copy['Revenue Growth'])"
   ]
  },
  {
   "cell_type": "code",
   "execution_count": null,
   "id": "1aa8e73e-9376-4cd2-9afb-2fac67de8c36",
   "metadata": {
    "scrolled": true
   },
   "outputs": [],
   "source": [
    "list(data2014copy['Revenue Growth'].sort_values(ascending=False).values)"
   ]
  },
  {
   "cell_type": "code",
   "execution_count": null,
   "id": "fd23a39c-0595-40c1-a7ee-b6727a2d3df2",
   "metadata": {},
   "outputs": [],
   "source": [
    "sns.boxplot(data2014copy['Revenue Growth'])"
   ]
  },
  {
   "cell_type": "code",
   "execution_count": null,
   "id": "d7e6bd5a-b1d7-45a2-8b40-04c3715f0c97",
   "metadata": {},
   "outputs": [],
   "source": [
    "data2014copy['Revenue Growth'].where(data2014copy['Revenue Growth']<40000).hist(bins=30)"
   ]
  },
  {
   "cell_type": "markdown",
   "id": "d5b51603-d5b5-4cde-a053-9f3112a2df7b",
   "metadata": {},
   "source": [
    "### Интерквартильный интервал"
   ]
  },
  {
   "cell_type": "code",
   "execution_count": null,
   "id": "755750d3-49be-473d-8520-b2c254dafc22",
   "metadata": {},
   "outputs": [],
   "source": [
    "q3=data2014copy['Revenue Growth'].quantile(0.75)"
   ]
  },
  {
   "cell_type": "code",
   "execution_count": null,
   "id": "b0e5b611-6bdb-4562-a934-331c715cd765",
   "metadata": {},
   "outputs": [],
   "source": [
    "q1=data2014copy['Revenue Growth'].quantile(0.25)"
   ]
  },
  {
   "cell_type": "code",
   "execution_count": null,
   "id": "655f4ed7-4386-4ea6-b41e-fcbe34c2459e",
   "metadata": {},
   "outputs": [],
   "source": [
    "irq=q3-q1"
   ]
  },
  {
   "cell_type": "code",
   "execution_count": null,
   "id": "ae546937-587a-4c20-b30b-f73c970d64a2",
   "metadata": {},
   "outputs": [],
   "source": [
    "mn=data2014copy['Revenue Growth'].mean()"
   ]
  },
  {
   "cell_type": "code",
   "execution_count": null,
   "id": "f21ff462-1f98-4401-affc-dc3a6602f125",
   "metadata": {},
   "outputs": [],
   "source": [
    "[mn-3*irq, mn+3*irq]"
   ]
  },
  {
   "cell_type": "markdown",
   "id": "a5b7c22d-eab1-4cea-ab76-8ad27a8b3a6d",
   "metadata": {},
   "source": [
    "### Правило трёх сигм"
   ]
  },
  {
   "cell_type": "code",
   "execution_count": null,
   "id": "e93398db-fbd2-49bc-be0c-a7877a5dcb44",
   "metadata": {},
   "outputs": [],
   "source": [
    "mn=data2014copy['Revenue Growth'].mean()"
   ]
  },
  {
   "cell_type": "code",
   "execution_count": null,
   "id": "b947e2d2-cb7f-425c-8180-6c8727b0defe",
   "metadata": {},
   "outputs": [],
   "source": [
    "std=data2014copy['Revenue Growth'].std()"
   ]
  },
  {
   "cell_type": "code",
   "execution_count": null,
   "id": "663e4912-d559-4b6f-ba7d-718a0c3aff41",
   "metadata": {},
   "outputs": [],
   "source": [
    "[mn-3*std,mn+3*std]"
   ]
  },
  {
   "cell_type": "code",
   "execution_count": null,
   "id": "b2af888e-d6fa-48d8-9f64-ca1d0306891e",
   "metadata": {},
   "outputs": [],
   "source": [
    "data2014copy[]"
   ]
  },
  {
   "cell_type": "markdown",
   "id": "e9587fb0-0205-47a3-aea7-63955b50fec9",
   "metadata": {},
   "source": [
    "### Z-score"
   ]
  },
  {
   "cell_type": "code",
   "execution_count": null,
   "id": "bb51b3d4-5db1-43c2-9113-04c50734e722",
   "metadata": {},
   "outputs": [],
   "source": [
    "from scipy.stats import zscore\n",
    "zz=data2014copy[['Revenue Growth']].apply(zscore)"
   ]
  },
  {
   "cell_type": "code",
   "execution_count": null,
   "id": "8b78c6af-5c8e-4900-a6e3-210e93a8cb18",
   "metadata": {},
   "outputs": [],
   "source": [
    "zz.sort_values('Revenue Growth',ascending=False)"
   ]
  },
  {
   "cell_type": "markdown",
   "id": "27bb6037-052a-4c6b-bd72-2267d4f4dfbf",
   "metadata": {},
   "source": [
    "## Стандарт скалим, и если надо удаляем outliers, где значение (он же z-score), и удалить если по модулю больше 3"
   ]
  },
  {
   "cell_type": "code",
   "execution_count": null,
   "id": "c312ba9c-574e-4874-a73b-4d4900c22972",
   "metadata": {},
   "outputs": [],
   "source": [
    "scaler.fit_transform(np.asarray([0,0,1,1,0]).reshape(-1,1))"
   ]
  },
  {
   "cell_type": "code",
   "execution_count": null,
   "id": "91e35e95-9367-4558-8fd0-cd7e8eaa826b",
   "metadata": {},
   "outputs": [],
   "source": [
    "scaler = StandardScaler()\n",
    "df = data2014copy\n",
    "df[float_columns] = scaler.fit_transform(data2014copy[float_columns])"
   ]
  },
  {
   "cell_type": "code",
   "execution_count": null,
   "id": "c95efe85-7b41-4771-a502-2a4bb04c89a3",
   "metadata": {},
   "outputs": [],
   "source": [
    "df['Class']"
   ]
  },
  {
   "cell_type": "markdown",
   "id": "b90af8f7-0d52-49bf-8f34-0d94d26289a1",
   "metadata": {},
   "source": [
    "#### Удаляем outliers"
   ]
  },
  {
   "cell_type": "code",
   "execution_count": null,
   "id": "5ee0bc2b-1f58-472f-b763-63728dca303e",
   "metadata": {},
   "outputs": [],
   "source": [
    "df=df[abs(df)<3].dropna()"
   ]
  },
  {
   "cell_type": "markdown",
   "id": "5333dc90-c47c-4199-8a05-2259aa8c2f53",
   "metadata": {},
   "source": [
    "### Разделение на трэйн и тест"
   ]
  },
  {
   "cell_type": "code",
   "execution_count": null,
   "id": "55183356-955b-48e7-8812-a5b8e2389b5f",
   "metadata": {},
   "outputs": [],
   "source": [
    "y=df['Class']\n",
    "X=df.drop(columns=['Class'])"
   ]
  },
  {
   "cell_type": "code",
   "execution_count": null,
   "id": "5d2f7d2a-856c-401c-9d9b-c333529a45dd",
   "metadata": {},
   "outputs": [],
   "source": [
    "X_train, X_test, Y_train, Y_test = train_test_split(X, y, test_size=0.3,random_state=17)"
   ]
  },
  {
   "cell_type": "markdown",
   "id": "eb481920-9ea7-4589-8f29-124641151aca",
   "metadata": {},
   "source": [
    "### Регрессия"
   ]
  },
  {
   "cell_type": "code",
   "execution_count": null,
   "id": "068587b3-1b61-4a09-b191-7f6a35e2cd69",
   "metadata": {},
   "outputs": [],
   "source": [
    "logreg=LogisticRegression()"
   ]
  },
  {
   "cell_type": "code",
   "execution_count": null,
   "id": "efcaec02-8eb0-4165-8f4a-07dcdcfd4658",
   "metadata": {},
   "outputs": [],
   "source": [
    "logreg.fit(X_train, Y_train)"
   ]
  },
  {
   "cell_type": "code",
   "execution_count": null,
   "id": "47f0f99a-a1c9-4604-8b77-8a143bb400ad",
   "metadata": {},
   "outputs": [],
   "source": [
    "predict=logreg.predict(X_test)"
   ]
  },
  {
   "cell_type": "code",
   "execution_count": null,
   "id": "489e850d-b2ad-4990-aa3d-24fe91bdf4bc",
   "metadata": {},
   "outputs": [],
   "source": [
    "accuracy_score(Y_test,predict)"
   ]
  },
  {
   "cell_type": "code",
   "execution_count": null,
   "id": "f0adb194-f455-49f4-9193-89729e07ed2a",
   "metadata": {},
   "outputs": [],
   "source": [
    "confusion_matrix(Y_test, predict)"
   ]
  },
  {
   "cell_type": "code",
   "execution_count": null,
   "id": "61e1b34c-7241-4c29-93bd-470b76aa828c",
   "metadata": {},
   "outputs": [],
   "source": [
    "roc_auc_score(Y_test,predict)"
   ]
  },
  {
   "cell_type": "code",
   "execution_count": null,
   "id": "7dd3ff16-c520-496c-92f8-cdae4b53858e",
   "metadata": {},
   "outputs": [],
   "source": [
    "fpr, tpr, _ = roc_curve(Y_test,predict)"
   ]
  },
  {
   "cell_type": "code",
   "execution_count": null,
   "id": "1d8c3f65-8bdb-4134-92c2-dd0620004847",
   "metadata": {},
   "outputs": [],
   "source": [
    "roc_auc = auc(fpr,tpr)"
   ]
  },
  {
   "cell_type": "code",
   "execution_count": null,
   "id": "4e9610d4-0dac-4ac9-b525-df4bf15b23b1",
   "metadata": {},
   "outputs": [],
   "source": [
    "RocCurveDisplay(fpr=fpr,tpr=tpr,roc_auc=roc_auc).plot()"
   ]
  },
  {
   "cell_type": "code",
   "execution_count": null,
   "id": "e15bb226-07fb-4a11-9006-263f76850c59",
   "metadata": {},
   "outputs": [],
   "source": [
    "model=Perceptron()\n",
    "model.fit(X_train, Y_train)\n",
    "predict=model.predict(X_test)\n",
    "print(confusion_matrix(Y_test, predict))\n",
    "print(roc_auc_score(Y_test,predict))\n",
    "fpr, tpr, _ = roc_curve(Y_test,predict)\n",
    "roc_auc = auc(fpr,tpr)\n",
    "RocCurveDisplay(fpr=fpr,tpr=tpr,roc_auc=roc_auc).plot()"
   ]
  },
  {
   "cell_type": "code",
   "execution_count": null,
   "id": "ecd6c033-f372-4f92-9be6-f550d0aab9a9",
   "metadata": {},
   "outputs": [],
   "source": [
    "model=DecisionTreeClassifier()\n",
    "model.fit(X_train, Y_train)\n",
    "predict=model.predict(X_test)\n",
    "print(confusion_matrix(Y_test, predict))\n",
    "print(roc_auc_score(Y_test,predict))\n",
    "fpr, tpr, _ = roc_curve(Y_test,predict)\n",
    "roc_auc = auc(fpr,tpr)\n",
    "RocCurveDisplay(fpr=fpr,tpr=tpr,roc_auc=roc_auc).plot()"
   ]
  },
  {
   "cell_type": "code",
   "execution_count": null,
   "id": "f908ea4a-803b-483d-9e98-9ebd54b9d5ad",
   "metadata": {},
   "outputs": [],
   "source": [
    "model=RandomForestClassifier()\n",
    "model.fit(X_train, Y_train)\n",
    "predict=model.predict(X_test)\n",
    "print(confusion_matrix(Y_test, predict))\n",
    "print(roc_auc_score(Y_test,predict))\n",
    "fpr, tpr, _ = roc_curve(Y_test,predict)\n",
    "roc_auc = auc(fpr,tpr)\n",
    "RocCurveDisplay(fpr=fpr,tpr=tpr,roc_auc=roc_auc).plot()"
   ]
  },
  {
   "cell_type": "code",
   "execution_count": null,
   "id": "f1a15905-3cc7-434f-8ae7-f376414d65e1",
   "metadata": {},
   "outputs": [],
   "source": [
    "model=GradientBoostingClassifier()\n",
    "model.fit(X_train, Y_train)\n",
    "predict=model.predict(X_test)\n",
    "print(confusion_matrix(Y_test, predict))\n",
    "print(roc_auc_score(Y_test,predict))\n",
    "fpr, tpr, _ = roc_curve(Y_test,predict)\n",
    "roc_auc = auc(fpr,tpr)\n",
    "RocCurveDisplay(fpr=fpr,tpr=tpr,roc_auc=roc_auc).plot()"
   ]
  },
  {
   "cell_type": "code",
   "execution_count": null,
   "id": "c4689dfe-cedb-4d31-83da-f693622cf2c3",
   "metadata": {},
   "outputs": [],
   "source": [
    "def preprocess_cf(df: pd.DataFrame,price_var_col) -> pd.DataFrame:\n",
    "    df_copy = df\n",
    "    object_cols=df_copy.select_dtypes(include=['object']).columns\n",
    "    df_copy=pd.get_dummies(df_copy, columns=['Sector'],dtype=int)\n",
    "    df_copy.drop(columns=['Unnamed: 0', price_var_col],axis=1,inplace=True)\n",
    "    float_columns=df_copy.select_dtypes(include=['float64']).columns\n",
    "    for i in float_columns:\n",
    "        df_copy[i].fillna(df_copy[i].median(), inplace=True)\n",
    "    scaler = StandardScaler()\n",
    "    df2 = df_copy\n",
    "    df2[float_columns] = scaler.fit_transform(df_copy[float_columns])\n",
    "    df2=df2[abs(df2)<3].dropna()\n",
    "    return df2"
   ]
  },
  {
   "cell_type": "code",
   "execution_count": null,
   "id": "89c36567-9380-4c1d-ad1e-05de3ce8b74a",
   "metadata": {},
   "outputs": [],
   "source": [
    "data2014_pp = preprocess_cf(data2014,f\"{2014+1} PRICE VAR [%]\")"
   ]
  },
  {
   "cell_type": "code",
   "execution_count": null,
   "id": "42501683-b625-4f17-810c-719972c66deb",
   "metadata": {},
   "outputs": [],
   "source": [
    "data2014_pp"
   ]
  },
  {
   "cell_type": "code",
   "execution_count": null,
   "id": "85335a91-3a67-4e3c-8a69-940de6a068ad",
   "metadata": {},
   "outputs": [],
   "source": [
    "y=data2014_pp['Class']\n",
    "X=data2014_pp.drop(columns=['Class'])"
   ]
  },
  {
   "cell_type": "code",
   "execution_count": null,
   "id": "93498bf2-f310-465f-aee1-67891e622b8a",
   "metadata": {},
   "outputs": [],
   "source": [
    "X_train, X_test, Y_train, Y_test = train_test_split(X, y, test_size=0.3,random_state=17)"
   ]
  },
  {
   "cell_type": "code",
   "execution_count": null,
   "id": "7c9a5f9b-24e6-4a56-afce-543dba698dd1",
   "metadata": {},
   "outputs": [],
   "source": [
    "model=GradientBoostingClassifier()\n",
    "model.fit(X_train, Y_train)\n",
    "predict=model.predict(X_test)\n",
    "print(confusion_matrix(Y_test, predict))\n",
    "print(roc_auc_score(Y_test,predict))\n",
    "fpr, tpr, _ = roc_curve(Y_test,predict)\n",
    "roc_auc = auc(fpr,tpr)\n",
    "RocCurveDisplay(fpr=fpr,tpr=tpr,roc_auc=roc_auc).plot()"
   ]
  },
  {
   "cell_type": "markdown",
   "id": "307b1fbb-4eb7-462d-a0df-754c17d99f9c",
   "metadata": {},
   "source": [
    "## Обучение модели на регрессию, другая Y колонка"
   ]
  },
  {
   "cell_type": "code",
   "execution_count": null,
   "id": "4de3b71f-9115-4c71-923e-3eada7636c9a",
   "metadata": {},
   "outputs": [],
   "source": [
    "def preprocess(df: pd.DataFrame, price_var_col) -> pd.DataFrame:\n",
    "    df_copy = df\n",
    "    object_cols=df_copy.select_dtypes(include=['object']).columns\n",
    "    df_copy=pd.get_dummies(df_copy, columns=['Sector'],dtype=int)\n",
    "    df_copy.drop(columns=['Unnamed: 0'],axis=1,inplace=True)\n",
    "    df_copy.drop(columns=['Class', price_var_col], axis=1,inplace=True)\n",
    "    float_columns=list(df_copy.select_dtypes(include=['float64']).columns)\n",
    "    # float_columns.remove(price_var_col)\n",
    "    for i in float_columns:\n",
    "        df_copy[i].fillna(df_copy[i].median(), inplace=True)\n",
    "    scaler = StandardScaler()\n",
    "    df2 = df_copy\n",
    "    df2[float_columns] = scaler.fit_transform(df2[float_columns])\n",
    "    # df3 = df2[float_columns]\n",
    "    # index_list=df3[abs(df3)<3].dropna().index\n",
    "    # df2.drop(index_list,inplace=True)\n",
    "    df2 = df2[abs(df2)<3].dropna()\n",
    "    return df2"
   ]
  },
  {
   "cell_type": "code",
   "execution_count": null,
   "id": "71c62a77-e0f5-42ce-b71a-3ff9ebe74a46",
   "metadata": {},
   "outputs": [],
   "source": [
    "price_var_col = f'{2014+1} PRICE VAR [%]'\n",
    "data2014_pp=preprocess(data2014,price_var_col)"
   ]
  },
  {
   "cell_type": "code",
   "execution_count": null,
   "id": "30abb41a-04e6-4c4e-b91b-fd159613e714",
   "metadata": {},
   "outputs": [],
   "source": [
    "y=data2014[price_var_col]"
   ]
  },
  {
   "cell_type": "code",
   "execution_count": null,
   "id": "03db6278-6ed3-401c-b567-f6ffad5fbb45",
   "metadata": {},
   "outputs": [],
   "source": [
    "data2014_ppy = data2014_pp.join(y)"
   ]
  },
  {
   "cell_type": "markdown",
   "id": "1e4be5c4-4112-4795-bef2-ce617962960f",
   "metadata": {},
   "source": [
    "### Выбросы за квантилями 1% и 99%"
   ]
  },
  {
   "cell_type": "code",
   "execution_count": null,
   "id": "1d70b714-7461-4b78-9a8d-56ad89757186",
   "metadata": {},
   "outputs": [],
   "source": [
    "lower_quantile = dff.quantile(0.01)\n",
    "upper_quantile = dff.quantile(0.99)\n",
    "\n",
    "filtered_df = dff[(dff >= lower_quantile) & (dff <= upper_quantile)].dropna()"
   ]
  },
  {
   "cell_type": "code",
   "execution_count": null,
   "id": "92c2d925-2a2d-49e6-82ff-758c87d87597",
   "metadata": {},
   "outputs": [],
   "source": [
    "filtered_df"
   ]
  },
  {
   "cell_type": "code",
   "execution_count": null,
   "id": "7eaf4f8a-7cb1-410b-9360-d595877b1d1e",
   "metadata": {},
   "outputs": [],
   "source": [
    "df"
   ]
  },
  {
   "cell_type": "markdown",
   "id": "966b6098-a3eb-4a0b-b30a-042f58c12758",
   "metadata": {},
   "source": [
    "### Продолжение"
   ]
  },
  {
   "cell_type": "code",
   "execution_count": null,
   "id": "bfbb74c5-119b-412b-8b71-d39c6b3f07a0",
   "metadata": {},
   "outputs": [],
   "source": [
    "Y = data2014_ppy[price_var_col]\n",
    "X = data2014_ppy.drop(columns=[price_var_col])\n",
    "X_train, X_test, Y_train, Y_test = train_test_split(X, Y, test_size=0.3,random_state=17)"
   ]
  },
  {
   "cell_type": "code",
   "execution_count": null,
   "id": "21da5722-167d-4867-9e03-b1783bf3983a",
   "metadata": {},
   "outputs": [],
   "source": [
    "model=GradientBoostingRegressor(max_depth=6)\n",
    "model.fit(X_train, Y_train)\n",
    "predict=model.predict(X_test)"
   ]
  },
  {
   "cell_type": "code",
   "execution_count": null,
   "id": "6be30917-2521-4673-8f5b-48114f89e308",
   "metadata": {},
   "outputs": [],
   "source": [
    "print(mean_squared_error(Y_test,predict))"
   ]
  },
  {
   "cell_type": "code",
   "execution_count": null,
   "id": "ae3836ed-0caa-4cf6-b005-44a95ba01086",
   "metadata": {},
   "outputs": [],
   "source": [
    "from sklearn.metrics import r2_score"
   ]
  },
  {
   "cell_type": "code",
   "execution_count": null,
   "id": "15d64783-55e0-4497-8574-caec9ea6f938",
   "metadata": {},
   "outputs": [],
   "source": [
    "r2 = r2_score(Y_test,predict)"
   ]
  },
  {
   "cell_type": "code",
   "execution_count": null,
   "id": "15d1e6db-7e59-46dc-a4a4-63cd883d289d",
   "metadata": {},
   "outputs": [],
   "source": [
    "r2"
   ]
  },
  {
   "cell_type": "code",
   "execution_count": null,
   "id": "69d88f1f-24ee-4730-94b1-9c7acb84e20d",
   "metadata": {},
   "outputs": [],
   "source": [
    "model=RandomForestRegressor()\n",
    "model.fit(X_train, Y_train)\n",
    "predict=model.predict(X_test)"
   ]
  },
  {
   "cell_type": "code",
   "execution_count": null,
   "id": "806ae499-e2eb-4e70-bdfb-31cdd8290bdc",
   "metadata": {},
   "outputs": [],
   "source": [
    "print(mean_squared_error(Y_test,predict))"
   ]
  },
  {
   "cell_type": "markdown",
   "id": "7ee1c7f9-5772-4200-b188-e5711d70df93",
   "metadata": {},
   "source": [
    "### Проверим на 2018 году. Если получится сильно хуже, то просто объединим с добавлением колонки Year."
   ]
  },
  {
   "cell_type": "code",
   "execution_count": null,
   "id": "64dd9dc8-ebdc-4d67-826d-e19a92795003",
   "metadata": {},
   "outputs": [],
   "source": [
    "data2018 = pd.read_csv(r'C:\\Учеба\\Диплом\\2018_Financial_Data.csv')\n",
    "price_var_col = f'{2018+1} PRICE VAR [%]'\n",
    "data2018_pp=preprocess(data2018,price_var_col)"
   ]
  },
  {
   "cell_type": "code",
   "execution_count": null,
   "id": "3089a653-8956-4436-9081-dc6400ab5608",
   "metadata": {},
   "outputs": [],
   "source": [
    "y=data2018[price_var_col]\n",
    "data2018_ppy = data2018_pp.join(y)"
   ]
  },
  {
   "cell_type": "code",
   "execution_count": null,
   "id": "ac0c9c73-370e-4fbd-b192-67af8f68a6a7",
   "metadata": {},
   "outputs": [],
   "source": [
    "Y = data2018_ppy[price_var_col]\n",
    "X = data2018_ppy.drop(columns=[price_var_col])"
   ]
  },
  {
   "cell_type": "code",
   "execution_count": null,
   "id": "324fa16e-af80-480d-a5c2-2825fcb6afa8",
   "metadata": {},
   "outputs": [],
   "source": [
    "predict=model.predict(X)\n",
    "print(mean_squared_error(Y,predict))"
   ]
  },
  {
   "cell_type": "markdown",
   "id": "d6dad6e1-50b6-4a44-8ed7-d8266ddc794a",
   "metadata": {},
   "source": [
    "### ну получилось неприлично много"
   ]
  },
  {
   "cell_type": "markdown",
   "id": "b4f258df-9552-4dfc-b39b-24375f79cd9d",
   "metadata": {},
   "source": [
    "## Попытки улучшения"
   ]
  },
  {
   "cell_type": "code",
   "execution_count": null,
   "id": "cad256e0-a1d6-42c8-a6d2-5d12bbbb4a61",
   "metadata": {},
   "outputs": [],
   "source": [
    "data2014[['Sector', 'Class']].groupby(['Sector']).value_counts()"
   ]
  },
  {
   "cell_type": "code",
   "execution_count": null,
   "id": "a2d03489-079f-453a-9716-01e349c69460",
   "metadata": {},
   "outputs": [],
   "source": [
    "data2014[['Sector', 'Class']].groupby(['Class']).value_counts()"
   ]
  },
  {
   "cell_type": "code",
   "execution_count": null,
   "id": "dc664948-6448-4820-811e-f765bb1562c3",
   "metadata": {},
   "outputs": [],
   "source": [
    "tmp = data2014[['Sector', 'Class']]"
   ]
  },
  {
   "cell_type": "code",
   "execution_count": null,
   "id": "4f0e7bca-2067-4ba5-9f31-099c73b92a05",
   "metadata": {},
   "outputs": [],
   "source": [
    "tmp.sort_values"
   ]
  },
  {
   "cell_type": "code",
   "execution_count": null,
   "id": "338a1dac-4eef-4e79-adb2-2c5682c04854",
   "metadata": {},
   "outputs": [],
   "source": [
    "for i in tmp['Sector'].drop_duplicates():\n",
    "    print(pd.DataFrame(tmp[tmp['Sector']==i].value_counts()).sort_values(by='Class')['count'])"
   ]
  },
  {
   "cell_type": "code",
   "execution_count": null,
   "id": "07264401-263b-4507-9615-82a9d8c4a954",
   "metadata": {},
   "outputs": [],
   "source": [
    "sector_dict = {}"
   ]
  },
  {
   "cell_type": "code",
   "execution_count": null,
   "id": "e2bbde9c-6a58-4a3c-8337-e78ddf433ccb",
   "metadata": {},
   "outputs": [],
   "source": [
    "for i in tmp['Sector'].drop_duplicates():\n",
    "    a=tmp[tmp['Sector']==i].value_counts().sort_index().values\n",
    "    sector_dict[i] = a[1]/sum(a)"
   ]
  },
  {
   "cell_type": "code",
   "execution_count": null,
   "id": "677bbe75-90cf-4788-b7e9-31bff2e35642",
   "metadata": {},
   "outputs": [],
   "source": [
    "sector_dict"
   ]
  },
  {
   "cell_type": "code",
   "execution_count": null,
   "id": "218be336-6887-4f33-bf3a-52687c81248a",
   "metadata": {},
   "outputs": [],
   "source": [
    "data2014"
   ]
  },
  {
   "cell_type": "code",
   "execution_count": null,
   "id": "5dd73198-d1a2-41ce-a2ea-2002c743f20c",
   "metadata": {},
   "outputs": [],
   "source": [
    "def preprocess_cf2(df: pd.DataFrame,price_var_col) -> pd.DataFrame:\n",
    "    sector_dict = {}\n",
    "    tmp = df[['Sector', 'Class']]\n",
    "    for i in tmp['Sector'].drop_duplicates():\n",
    "        a=tmp[tmp['Sector']==i].value_counts().sort_index().values\n",
    "        sector_dict[i] = a[1]/sum(a)\n",
    "    df_copy = df\n",
    "    df_copy['Sector'] = df_copy['Sector'].replace(sector_dict)\n",
    "    df_copy.drop(columns=['Unnamed: 0', price_var_col],axis=1,inplace=True)\n",
    "    float_columns=df_copy.select_dtypes(include=['float64']).columns\n",
    "    for i in float_columns:\n",
    "        df_copy[i].fillna(df_copy[i].median(), inplace=True)\n",
    "    scaler = StandardScaler()\n",
    "    df2 = df_copy\n",
    "    df2[float_columns] = scaler.fit_transform(df_copy[float_columns])\n",
    "    df2=df2[abs(df2)<3].dropna()\n",
    "    return df2"
   ]
  },
  {
   "cell_type": "code",
   "execution_count": null,
   "id": "350eabab-4e0c-4785-84f9-f1d76756c405",
   "metadata": {},
   "outputs": [],
   "source": [
    "data2014_pp = preprocess_cf2(data2014,f\"{2014+1} PRICE VAR [%]\")"
   ]
  },
  {
   "cell_type": "code",
   "execution_count": null,
   "id": "e9d29122-ba47-441a-907d-47ee41326d43",
   "metadata": {},
   "outputs": [],
   "source": [
    "data2014_pp"
   ]
  },
  {
   "cell_type": "code",
   "execution_count": null,
   "id": "26569b6c-0168-4190-9995-b33221a99529",
   "metadata": {},
   "outputs": [],
   "source": [
    "y=data2014_pp['Class']\n",
    "X=data2014_pp.drop(columns=['Class'])"
   ]
  },
  {
   "cell_type": "code",
   "execution_count": null,
   "id": "86cdb811-d211-4c93-9c97-4ce35f63ba1e",
   "metadata": {},
   "outputs": [],
   "source": [
    "X_train, X_test, Y_train, Y_test = train_test_split(X, y, test_size=0.3,random_state=17)"
   ]
  },
  {
   "cell_type": "code",
   "execution_count": null,
   "id": "f8c68551-dca5-46a5-9865-e3de9cb42b00",
   "metadata": {},
   "outputs": [],
   "source": [
    "6.5+10+8.5+5.4"
   ]
  },
  {
   "cell_type": "code",
   "execution_count": null,
   "id": "a13d644e-9b02-42c6-a62a-6d9188eacc99",
   "metadata": {},
   "outputs": [],
   "source": [
    "model=GradientBoostingClassifier()\n",
    "model.fit(X_train, Y_train)\n",
    "predict=model.predict(X_test)\n",
    "print(confusion_matrix(Y_test, predict))\n",
    "print(roc_auc_score(Y_test,predict))\n",
    "fpr, tpr, _ = roc_curve(Y_test,predict)\n",
    "roc_auc = auc(fpr,tpr)\n",
    "RocCurveDisplay(fpr=fpr,tpr=tpr,roc_auc=roc_auc).plot()"
   ]
  },
  {
   "cell_type": "code",
   "execution_count": null,
   "id": "2d411448-a550-40eb-86c6-6101c58581bb",
   "metadata": {},
   "outputs": [],
   "source": [
    "a=data2014_pp.corr()['Class']"
   ]
  },
  {
   "cell_type": "code",
   "execution_count": null,
   "id": "608b8515-ec25-40a0-a233-9ae66898b07f",
   "metadata": {},
   "outputs": [],
   "source": [
    "a.plot()"
   ]
  },
  {
   "cell_type": "code",
   "execution_count": null,
   "id": "8b6d74c4-84ea-48ce-a49e-6ccb9829f41b",
   "metadata": {},
   "outputs": [],
   "source": [
    "a[abs(a)>0.15]"
   ]
  },
  {
   "cell_type": "code",
   "execution_count": null,
   "id": "18ebc82f-703d-49aa-90e7-e6ee2a10f210",
   "metadata": {},
   "outputs": [],
   "source": [
    "import random"
   ]
  },
  {
   "cell_type": "code",
   "execution_count": null,
   "id": "b6305f7d-2e45-490d-a37e-a4d16515475e",
   "metadata": {},
   "outputs": [],
   "source": [
    "col_list=random.sample(list(data2014_pp.columns),50)"
   ]
  },
  {
   "cell_type": "code",
   "execution_count": null,
   "id": "a7ac85c9-1636-4543-9fef-9b2a4bf0ec6c",
   "metadata": {},
   "outputs": [],
   "source": [
    "print('Class' in col_list)\n",
    "print('Sector' in col_list)"
   ]
  },
  {
   "cell_type": "code",
   "execution_count": null,
   "id": "4afa7f6d-95ee-489e-a7a1-5d1a6d6ce6ef",
   "metadata": {},
   "outputs": [],
   "source": [
    "tmp = data2014_pp[col_list]"
   ]
  },
  {
   "cell_type": "code",
   "execution_count": null,
   "id": "157ef9ef-2f1a-4585-8eff-586920fb96fa",
   "metadata": {},
   "outputs": [],
   "source": [
    "y=tmp['Class']\n",
    "X=tmp.drop(columns=['Class'])"
   ]
  },
  {
   "cell_type": "code",
   "execution_count": null,
   "id": "f2b30c4e-d50d-4d81-8775-3ccd92046b0d",
   "metadata": {},
   "outputs": [],
   "source": [
    "X_train, X_test, Y_train, Y_test = train_test_split(X, y, test_size=0.3,random_state=17)"
   ]
  },
  {
   "cell_type": "code",
   "execution_count": null,
   "id": "52e2595f-9ed5-4fdc-b8cc-bb10b5e8ba88",
   "metadata": {},
   "outputs": [],
   "source": [
    "model=GradientBoostingClassifier()\n",
    "model.fit(X_train, Y_train)\n",
    "predict=model.predict(X_test)\n",
    "print(confusion_matrix(Y_test, predict))\n",
    "print(roc_auc_score(Y_test,predict))\n",
    "fpr, tpr, _ = roc_curve(Y_test,predict)\n",
    "roc_auc = auc(fpr,tpr)\n",
    "RocCurveDisplay(fpr=fpr,tpr=tpr,roc_auc=roc_auc).plot()"
   ]
  },
  {
   "cell_type": "code",
   "execution_count": null,
   "id": "373f30df-23ab-441f-ab5c-9fd69bfb249c",
   "metadata": {},
   "outputs": [],
   "source": [
    "y=data2014_pp['Class']\n",
    "X=data2014_pp.drop(columns=['Class'])\n",
    "X_train, X_test, Y_train, Y_test = train_test_split(X, y, test_size=0.3,random_state=17)"
   ]
  },
  {
   "cell_type": "code",
   "execution_count": null,
   "id": "38c28ad2-0545-4432-bc91-27609502b0a4",
   "metadata": {},
   "outputs": [],
   "source": [
    "model=GradientBoostingClassifier()\n",
    "model.fit(X_train, Y_train)\n",
    "predict=model.predict(X_test)\n",
    "print(confusion_matrix(Y_test, predict))\n",
    "print(roc_auc_score(Y_test,predict))\n",
    "fpr, tpr, _ = roc_curve(Y_test,predict)\n",
    "roc_auc = auc(fpr,tpr)\n",
    "RocCurveDisplay(fpr=fpr,tpr=tpr,roc_auc=roc_auc).plot()"
   ]
  },
  {
   "cell_type": "markdown",
   "id": "5dd40525-8a63-4ab4-9c37-472b7e5f0378",
   "metadata": {},
   "source": [
    "### Grid Search"
   ]
  },
  {
   "cell_type": "code",
   "execution_count": null,
   "id": "081d54df-1447-4b48-9fdf-d544f86d6ab6",
   "metadata": {},
   "outputs": [],
   "source": [
    "from sklearn.model_selection import GridSearchCV\n",
    "from sklearn.metrics import accuracy_score\n",
    "from sklearn.metrics import precision_score\n",
    "from sklearn.metrics import recall_score\n",
    "from sklearn.metrics import make_scorer\n",
    "#creating Scoring parameter: \n",
    "scoring = {'accuracy': make_scorer(accuracy_score),\n",
    "           'precision': make_scorer(precision_score),'recall':make_scorer(recall_score)}\n",
    "\n",
    "# A sample parameter\n",
    "\n",
    "parameters = {\n",
    "    \"learning_rate\": [0.075, 0.1, 0.125, 0.15, 0.175, 0.2]\n",
    "    }\n",
    "#passing the scoring function in the GridSearchCV\n",
    "clf = GridSearchCV(GradientBoostingClassifier(), parameters,scoring=scoring,refit=False, n_jobs=-1, verbose=10)\n",
    "\n",
    "clf.fit(X_train, Y_train)\n",
    "#converting the clf.cv_results to dataframe\n",
    "df=pd.DataFrame.from_dict(clf.cv_results_)\n",
    "#here Possible inputs for cross validation is cv=2, there two split split0 and split1\n",
    "df[['split0_test_accuracy','split1_test_accuracy','split0_test_precision','split1_test_precision','split0_test_recall','split1_test_recall']]"
   ]
  },
  {
   "cell_type": "code",
   "execution_count": null,
   "id": "44581215-7697-4777-9e1d-2456f1472495",
   "metadata": {},
   "outputs": [],
   "source": [
    "model=GradientBoostingClassifier()\n",
    "model.fit(X_train, Y_train)\n",
    "predict=model.predict(X_test)\n",
    "print(confusion_matrix(Y_test, predict))\n",
    "print(roc_auc_score(Y_test,predict))\n",
    "fpr, tpr, _ = roc_curve(Y_test,predict)\n",
    "roc_auc = auc(fpr,tpr)\n",
    "RocCurveDisplay(fpr=fpr,tpr=tpr,roc_auc=roc_auc).plot()"
   ]
  },
  {
   "cell_type": "markdown",
   "id": "77b10bbd-c257-4861-9bea-bf3a962bbfe5",
   "metadata": {},
   "source": [
    "### Удаление данных, связанных с Growth"
   ]
  },
  {
   "cell_type": "code",
   "execution_count": null,
   "id": "4e70cf43-9789-4125-9d23-af017f02d8cb",
   "metadata": {},
   "outputs": [],
   "source": [
    "not_growth_columns=list(filter(lambda x: \"growth\" not in x.lower(),list(data2014.columns)))"
   ]
  },
  {
   "cell_type": "code",
   "execution_count": null,
   "id": "be967b50-6e1e-4b4c-8c73-3409628a5709",
   "metadata": {},
   "outputs": [],
   "source": [
    "data2014 = pd.read_csv(r'C:\\Учеба\\Диплом\\2014_Financial_Data.csv')"
   ]
  },
  {
   "cell_type": "code",
   "execution_count": null,
   "id": "807084a6-b9f2-47fd-8fd4-249d4bc7d0c3",
   "metadata": {},
   "outputs": [],
   "source": [
    "tmp = data2014[not_growth_columns]"
   ]
  },
  {
   "cell_type": "code",
   "execution_count": null,
   "id": "7a044b4f-0443-4844-a177-e9236b66e30b",
   "metadata": {},
   "outputs": [],
   "source": [
    "data2014_pp2 = preprocess_cf2(tmp,f\"{2014+1} PRICE VAR [%]\")"
   ]
  },
  {
   "cell_type": "code",
   "execution_count": null,
   "id": "afb104d6-9be2-49be-9db2-d94bc6ad2585",
   "metadata": {},
   "outputs": [],
   "source": [
    "y=data2014_pp2['Class']\n",
    "X=data2014_pp2.drop(columns=['Class'])\n",
    "X_train, X_test, Y_train, Y_test = train_test_split(X, y, test_size=0.3,random_state=17)"
   ]
  },
  {
   "cell_type": "code",
   "execution_count": null,
   "id": "35b1fdb8-91f6-493f-a5a2-ac1a7ed4168e",
   "metadata": {},
   "outputs": [],
   "source": [
    "model=GradientBoostingClassifier()\n",
    "model.fit(X_train, Y_train)\n",
    "predict=model.predict(X_test)\n",
    "print(confusion_matrix(Y_test, predict))\n",
    "print(roc_auc_score(Y_test,predict))\n",
    "fpr, tpr, _ = roc_curve(Y_test,predict)\n",
    "roc_auc = auc(fpr,tpr)\n",
    "RocCurveDisplay(fpr=fpr,tpr=tpr,roc_auc=roc_auc).plot()"
   ]
  },
  {
   "cell_type": "markdown",
   "id": "f1c3f84f-de64-4153-9542-c361608a329f",
   "metadata": {},
   "source": [
    "### Другие скалеры"
   ]
  },
  {
   "cell_type": "code",
   "execution_count": null,
   "id": "4105163b-6322-4e30-8ac1-21c5aa6f4972",
   "metadata": {},
   "outputs": [],
   "source": [
    "def preprocess_cf2_no_growth_minmax(df: pd.DataFrame,price_var_col) -> pd.DataFrame:\n",
    "    not_growth_columns=list(filter(lambda x: \"growth\" not in x.lower(),list(df.columns)))\n",
    "\n",
    "    df_no_growth = df[not_growth_columns]\n",
    "    \n",
    "    sector_dict = {}\n",
    "    tmp = df_no_growth[['Sector', 'Class']]\n",
    "    for i in tmp['Sector'].drop_duplicates():\n",
    "        a=tmp[tmp['Sector']==i].value_counts().sort_index().values\n",
    "        sector_dict[i] = a[1]/sum(a)\n",
    "    df_copy = df_no_growth\n",
    "    df_copy['Sector'] = df_copy['Sector'].replace(sector_dict)\n",
    "    df_copy.drop(columns=['Unnamed: 0', price_var_col],axis=1,inplace=True)\n",
    "    float_columns=df_copy.select_dtypes(include=['float64']).columns\n",
    "    for i in float_columns:\n",
    "        df_copy[i].fillna(df_copy[i].median(), inplace=True)\n",
    "    scaler = MinMaxScaler()\n",
    "    df2 = df_copy\n",
    "    df2[float_columns] = scaler.fit_transform(df_copy[float_columns])\n",
    "    # df2=df2[abs(df2)<3].dropna()\n",
    "    return df2"
   ]
  },
  {
   "cell_type": "code",
   "execution_count": null,
   "id": "344727ca-1a50-4780-a879-2da8ca94f9cd",
   "metadata": {},
   "outputs": [],
   "source": [
    "def get_price_var_col(year):\n",
    "    return f\"{year+1} PRICE VAR [%]\""
   ]
  },
  {
   "cell_type": "code",
   "execution_count": null,
   "id": "fe3acee7-2870-4544-a8b6-79eff86edde0",
   "metadata": {},
   "outputs": [],
   "source": [
    "data2014_pp_mm = preprocess_cf2_no_growth_minmax(data2014, get_price_var_col(2014))"
   ]
  },
  {
   "cell_type": "code",
   "execution_count": null,
   "id": "b66897c6-1456-443d-ae07-25fe66ad76a0",
   "metadata": {},
   "outputs": [],
   "source": [
    "y=data2014_pp_mm['Class']\n",
    "X=data2014_pp_mm.drop(columns=['Class'])\n",
    "X_train, X_test, Y_train, Y_test = train_test_split(X, y, test_size=0.3,random_state=17)\n",
    "model=GradientBoostingClassifier()\n",
    "model.fit(X_train, Y_train)\n",
    "predict=model.predict(X_test)\n",
    "print(confusion_matrix(Y_test, predict))\n",
    "print(roc_auc_score(Y_test,predict))\n",
    "fpr, tpr, _ = roc_curve(Y_test,predict)\n",
    "roc_auc = auc(fpr,tpr)\n",
    "RocCurveDisplay(fpr=fpr,tpr=tpr,roc_auc=roc_auc).plot()"
   ]
  },
  {
   "cell_type": "markdown",
   "id": "4748c973-441e-49e8-a099-5b4179867642",
   "metadata": {},
   "source": [
    "### Robust"
   ]
  },
  {
   "cell_type": "code",
   "execution_count": null,
   "id": "11f70cc2-ff16-4e94-b87c-919a55f0ff5a",
   "metadata": {},
   "outputs": [],
   "source": [
    "def preprocess_cf2_no_growth_robust(df: pd.DataFrame,price_var_col) -> pd.DataFrame:\n",
    "    not_growth_columns=list(filter(lambda x: \"growth\" not in x.lower(),list(df.columns)))\n",
    "\n",
    "    df_no_growth = df[not_growth_columns]\n",
    "    \n",
    "    sector_dict = {}\n",
    "    tmp = df_no_growth[['Sector', 'Class']]\n",
    "    for i in tmp['Sector'].drop_duplicates():\n",
    "        a=tmp[tmp['Sector']==i].value_counts().sort_index().values\n",
    "        sector_dict[i] = a[1]/sum(a)\n",
    "    df_copy = df_no_growth\n",
    "    df_copy['Sector'] = df_copy['Sector'].replace(sector_dict)\n",
    "    df_copy.drop(columns=['Unnamed: 0', price_var_col],axis=1,inplace=True)\n",
    "    float_columns=list(df_copy.select_dtypes(include=['float64']).columns)\n",
    "    float_columns.remove('Sector')\n",
    "    for i in float_columns:\n",
    "        df_copy[i].fillna(df_copy[i].median(), inplace=True)\n",
    "\n",
    "    # df_copy[float_columns] = df_copy[float_columns][(df_copy[float_columns]>df_copy[float_columns].quantile(0.01)) & (df_copy[float_columns]<df_copy[float_columns].quantile(0.99))]\n",
    "    scaler = RobustScaler(quantile_range=(0.01,0.99))\n",
    "    # scaler = StandardScaler()\n",
    "    df2 = df_copy\n",
    "    df2[float_columns] = scaler.fit_transform(df_copy[float_columns])\n",
    "    # df2=df2[abs(df2)<3].dropna()\n",
    "    return df2"
   ]
  },
  {
   "cell_type": "code",
   "execution_count": null,
   "id": "6b7fddfc-95f7-4696-94dd-87a16d0af2f8",
   "metadata": {},
   "outputs": [],
   "source": [
    "data2014_pp_rb = preprocess_cf2_no_growth_robust(data2014, get_price_var_col(2014))"
   ]
  },
  {
   "cell_type": "code",
   "execution_count": null,
   "id": "8b4d0982-3559-437a-95b1-581928c4ac6e",
   "metadata": {},
   "outputs": [],
   "source": [
    "float_columns = list(data2014_pp_rb.select_dtypes(include=['float64']).columns)\n",
    "float_columns.remove('Sector')"
   ]
  },
  {
   "cell_type": "code",
   "execution_count": null,
   "id": "008cd044-9274-4feb-a0ef-a9bc4efd1930",
   "metadata": {},
   "outputs": [],
   "source": [
    "lower = data2014_pp_rb[float_columns].quantile(0.01)\n",
    "greater = data2014_pp_rb[float_columns].quantile(0.99)"
   ]
  },
  {
   "cell_type": "code",
   "execution_count": null,
   "id": "695d0504-b692-4280-ad8e-9fa92818911e",
   "metadata": {},
   "outputs": [],
   "source": [
    "data2014_pp_rb[float_columns] = (data2014_pp_rb[float_columns])[(data2014_pp_rb[float_columns] >= lower) & (data2014_pp_rb[float_columns] <= greater)].dropna()"
   ]
  },
  {
   "cell_type": "code",
   "execution_count": null,
   "id": "aff619ab-337f-448e-8f24-91ff7f85e77a",
   "metadata": {},
   "outputs": [],
   "source": [
    "y=data2014_pp_rb.dropna()['Class']\n",
    "X=data2014_pp_rb.dropna().drop(columns=['Class'])\n",
    "X_train, X_test, Y_train, Y_test = train_test_split(X, y, test_size=0.3,random_state=17)\n",
    "model=GradientBoostingClassifier()\n",
    "model.fit(X_train, Y_train)\n",
    "predict=model.predict(X_test)\n",
    "print(confusion_matrix(Y_test, predict))\n",
    "print(roc_auc_score(Y_test,predict))\n",
    "fpr, tpr, _ = roc_curve(Y_test,predict)\n",
    "roc_auc = auc(fpr,tpr)\n",
    "RocCurveDisplay(fpr=fpr,tpr=tpr,roc_auc=roc_auc).plot()"
   ]
  },
  {
   "cell_type": "code",
   "execution_count": null,
   "id": "8691d482-b0f5-4bbd-9fdf-9f9dc13a3951",
   "metadata": {},
   "outputs": [],
   "source": [
    "def preprocess_cf2_no_growth_rb(df: pd.DataFrame,price_var_col) -> pd.DataFrame:\n",
    "    not_growth_columns=list(filter(lambda x: \"growth\" not in x.lower(),list(df.columns)))\n",
    "\n",
    "    df_no_growth = df[not_growth_columns]\n",
    "    \n",
    "    sector_dict = {}\n",
    "    tmp = df_no_growth[['Sector', 'Class']]\n",
    "    for i in tmp['Sector'].drop_duplicates():\n",
    "        a=tmp[tmp['Sector']==i].value_counts().sort_index().values\n",
    "        sector_dict[i] = a[1]/sum(a)\n",
    "    df_copy = df_no_growth\n",
    "    df_copy['Sector'] = df_copy['Sector'].replace(sector_dict)\n",
    "    df_copy.drop(columns=['Unnamed: 0', price_var_col],axis=1,inplace=True)\n",
    "    float_columns=list(df_copy.select_dtypes(include=['float64']).columns)\n",
    "    float_columns.remove('Sector')\n",
    "    for i in float_columns:\n",
    "        df_copy[i].fillna(df_copy[i].median(), inplace=True)\n",
    "\n",
    "    # df_copy[float_columns] = df_copy[float_columns][(df_copy[float_columns]>df_copy[float_columns].quantile(0.01)) & (df_copy[float_columns]<df_copy[float_columns].quantile(0.99))]\n",
    "    # scaler = RobustScaler(quantile_range=(0.01,0.99))\n",
    "    scaler = RobustScaler()\n",
    "    df2 = df_copy\n",
    "    df2[float_columns] = scaler.fit_transform(df_copy[float_columns])\n",
    "\n",
    "    # df2=df2[abs(df2)<3].dropna()\n",
    "\n",
    "    lower = df2[float_columns].quantile(0.01)\n",
    "    greater = df2[float_columns].quantile(0.99)\n",
    "    df2[float_columns] = (df2[float_columns])[(df2[float_columns] >= lower) & (df2[float_columns] <= greater)].dropna()\n",
    "\n",
    "    return df2"
   ]
  },
  {
   "cell_type": "code",
   "execution_count": null,
   "id": "88320998-2609-4a1b-9213-a23d06efe398",
   "metadata": {},
   "outputs": [],
   "source": [
    "data2014 = pd.read_csv(r'C:\\Учеба\\Диплом\\2014_Financial_Data.csv')"
   ]
  },
  {
   "cell_type": "code",
   "execution_count": null,
   "id": "e450bb39-aaf2-470a-b9e8-d69a4ea6483d",
   "metadata": {
    "scrolled": true
   },
   "outputs": [],
   "source": [
    "data2014_pp_rb = preprocess_cf2_no_growth_rb(data2014, get_price_var_col(2014))\n",
    "y=data2014_pp_rb.dropna()['Class']\n",
    "X=data2014_pp_rb.dropna().drop(columns=['Class'])\n",
    "X_train, X_test, Y_train, Y_test = train_test_split(X, y, test_size=0.3,random_state=17)\n",
    "model=GradientBoostingClassifier()\n",
    "model.fit(X_train, Y_train)\n",
    "predict=model.predict(X_test)\n",
    "print(confusion_matrix(Y_test, predict))\n",
    "print(roc_auc_score(Y_test,predict))\n",
    "fpr, tpr, _ = roc_curve(Y_test,predict)\n",
    "roc_auc = auc(fpr,tpr)\n",
    "RocCurveDisplay(fpr=fpr,tpr=tpr,roc_auc=roc_auc).plot()"
   ]
  },
  {
   "cell_type": "markdown",
   "id": "15c91e54-519c-42b3-95f5-30a040649e5d",
   "metadata": {},
   "source": [
    "### Логарифм"
   ]
  },
  {
   "cell_type": "code",
   "execution_count": null,
   "id": "dab89a63-74f5-4542-95dc-219aeedb8399",
   "metadata": {},
   "outputs": [],
   "source": [
    "data2014_pp_rb_log = preprocess_cf2_no_growth_rb_log(data2014, get_price_var_col(2014))"
   ]
  },
  {
   "cell_type": "code",
   "execution_count": null,
   "id": "40db6f04-e7c0-4ec0-a582-85eb75b0484f",
   "metadata": {},
   "outputs": [],
   "source": [
    "data2014_pp_rb_log.iloc[:,:10]"
   ]
  },
  {
   "cell_type": "code",
   "execution_count": null,
   "id": "8bc46b4f-b7eb-48bf-a5fa-72118e71c016",
   "metadata": {},
   "outputs": [],
   "source": [
    "data2014_pp_rb_log.iloc[:,:10].hist()\n",
    "plt.show()"
   ]
  },
  {
   "cell_type": "code",
   "execution_count": null,
   "id": "750626d5-aa01-4923-aef7-65505992a405",
   "metadata": {},
   "outputs": [],
   "source": [
    "data2014_pp_rb_log_positive = data2014_pp_rb_log-data2014_pp_rb_log.min()"
   ]
  },
  {
   "cell_type": "code",
   "execution_count": null,
   "id": "b348af59-bd57-41ba-a084-a89175c0cd3b",
   "metadata": {},
   "outputs": [],
   "source": [
    "data2014_pp_rb_log_positive_loged = np.log1p(data2014_pp_rb_log_positive)"
   ]
  },
  {
   "cell_type": "code",
   "execution_count": null,
   "id": "e27009c7-0a0c-459a-be38-292860ac138d",
   "metadata": {},
   "outputs": [],
   "source": [
    "data2014_pp_rb_log_positive_loged.iloc[:, :60].hist(figsize=(20,20))\n",
    "plt.show()"
   ]
  },
  {
   "cell_type": "code",
   "execution_count": null,
   "id": "435db84b-40d9-48c8-b6f5-7859116531f0",
   "metadata": {},
   "outputs": [],
   "source": [
    "def preprocess_cf2_no_growth_rb_log(df: pd.DataFrame,price_var_col) -> pd.DataFrame:\n",
    "    not_growth_columns=list(filter(lambda x: \"growth\" not in x.lower(),list(df.columns)))\n",
    "\n",
    "    df_no_growth = df[not_growth_columns]\n",
    "    \n",
    "    sector_dict = {}\n",
    "    tmp = df_no_growth[['Sector', 'Class']]\n",
    "    for i in tmp['Sector'].drop_duplicates():\n",
    "        a=tmp[tmp['Sector']==i].value_counts().sort_index().values\n",
    "        sector_dict[i] = a[1]/sum(a)\n",
    "    df_copy = df_no_growth\n",
    "    df_copy['Sector'] = df_copy['Sector'].replace(sector_dict)\n",
    "    df_copy.drop(columns=['Unnamed: 0', price_var_col],axis=1,inplace=True)\n",
    "    float_columns=list(df_copy.select_dtypes(include=['float64']).columns)\n",
    "    float_columns.remove('Sector')\n",
    "    for i in float_columns:\n",
    "        df_copy[i].fillna(df_copy[i].median(), inplace=True)\n",
    "\n",
    "    df_for_loging = df_copy.drop(columns=['Class'])\n",
    "    \n",
    "    df_copy_pos = df_for_loging-df_for_loging.min()\n",
    "    \n",
    "    df_copy_pos_logged = np.log1p(df_copy_pos)\n",
    "\n",
    "    df_copy_pos_logged['Class'] = df_copy['Class']\n",
    "    \n",
    "    # df_copy[float_columns] = df_copy[float_columns][(df_copy[float_columns]>df_copy[float_columns].quantile(0.01)) & (df_copy[float_columns]<df_copy[float_columns].quantile(0.99))]\n",
    "    # scaler = RobustScaler(quantile_range=(0.01,0.99))\n",
    "    scaler = RobustScaler()\n",
    "    df2 = df_copy_pos_logged\n",
    "    df2[float_columns] = scaler.fit_transform(df2[float_columns])\n",
    "    \n",
    "    lower = df2[float_columns].quantile(0.01)\n",
    "    greater = df2[float_columns].quantile(0.99)\n",
    "    df2[float_columns] = (df2[float_columns])[(df2[float_columns] >= lower) & (df2[float_columns] <= greater)]\n",
    "\n",
    "    return df2.dropna()"
   ]
  },
  {
   "cell_type": "code",
   "execution_count": null,
   "id": "a5593a83-209b-4cb9-999a-29d376427481",
   "metadata": {},
   "outputs": [],
   "source": [
    "data2014_pp_rb = preprocess_cf2_no_growth_rb_log(data2014, get_price_var_col(2014))\n",
    "data2014_pp_rb"
   ]
  },
  {
   "cell_type": "code",
   "execution_count": null,
   "id": "c84bb4e5-9b33-4394-a36e-8372b55cb82e",
   "metadata": {},
   "outputs": [],
   "source": [
    "data2014_pp_rb = preprocess_cf2_no_growth_rb_log(data2014, get_price_var_col(2014))\n",
    "y=data2014_pp_rb.dropna()['Class']\n",
    "X=data2014_pp_rb.dropna().drop(columns=['Class'])\n",
    "X_train, X_test, Y_train, Y_test = train_test_split(X, y, test_size=0.3,random_state=17)\n",
    "model=GradientBoostingClassifier()\n",
    "model.fit(X_train, Y_train)\n",
    "predict=model.predict(X_test)\n",
    "print(confusion_matrix(Y_test, predict))\n",
    "print(roc_auc_score(Y_test,predict))\n",
    "fpr, tpr, _ = roc_curve(Y_test,predict)\n",
    "roc_auc = auc(fpr,tpr)\n",
    "RocCurveDisplay(fpr=fpr,tpr=tpr,roc_auc=roc_auc).plot()"
   ]
  },
  {
   "cell_type": "code",
   "execution_count": null,
   "id": "4ba13892-bb32-48ce-bf98-9989b2dd48a5",
   "metadata": {},
   "outputs": [],
   "source": [
    "data2014_pp_rb.columns[:10]"
   ]
  },
  {
   "cell_type": "code",
   "execution_count": null,
   "id": "a58ef243-e83f-4f6c-8ab1-94e44b551b69",
   "metadata": {
    "scrolled": true
   },
   "outputs": [],
   "source": [
    "sns.pairplot(data2014_pp_rb[list(data2014_pp_rb.columns[:10]) + ['Class']], hue='Class');"
   ]
  },
  {
   "cell_type": "markdown",
   "id": "0332fe30-dee1-4dbb-9104-e803f494d83d",
   "metadata": {},
   "source": [
    "### LightGBM"
   ]
  },
  {
   "cell_type": "code",
   "execution_count": null,
   "id": "09f34997-3ea0-4f75-a7c8-9cfa10372d22",
   "metadata": {},
   "outputs": [],
   "source": [
    "import lightgbm as lgb\n",
    "import re"
   ]
  },
  {
   "cell_type": "code",
   "execution_count": null,
   "id": "91b25096-6909-464f-9652-e6cfce47b040",
   "metadata": {
    "scrolled": true
   },
   "outputs": [],
   "source": [
    "data2014_pp_rb = preprocess_cf2_no_growth_rb_log(data2014, get_price_var_col(2014))\n",
    "\n",
    "\n",
    "data2014_pp_rb = data2014_pp_rb.rename(columns = lambda x:re.sub('[^A-Za-z0-9_]+', '', x))\n",
    "y=data2014_pp_rb.dropna()['Class']\n",
    "X=data2014_pp_rb.dropna().drop(columns=['Class'])\n",
    "\n",
    "X_train, X_test, Y_train, Y_test = train_test_split(X, y, test_size=0.3,random_state=17)\n",
    "\n",
    "train_data = lgb.Dataset(X_train, label=Y_train)\n",
    "\n",
    "\n",
    "# Set hyperparameters for the LightGBM model\n",
    "params = {\n",
    "    'boosting_type': 'gbdt',\n",
    "    'objective': 'binary',\n",
    "    'metric': 'binary_logloss',\n",
    "    'num_leaves': 100,\n",
    "    'learning_rate': 0.08,\n",
    "    'feature_fraction': 0.9,\n",
    "    'bagging_fraction': 0.8,\n",
    "    'bagging_freq': 5,\n",
    "    'verbose': 0,\n",
    "    'n_estimators': 40\n",
    "}\n",
    "\n",
    "# Train the LightGBM classifier\n",
    "model = lgb.train(params, train_data, num_boost_round=100)\n",
    "\n",
    "# Make predictions on the test set\n",
    "y_pred = model.predict(X_test)\n",
    "predict = [1 if pred >= 0.5 else 0 for pred in y_pred]\n",
    "\n",
    "# Evaluate the model\n",
    "accuracy = accuracy_score(Y_test, predict)\n",
    "print('Accuracy:', accuracy)\n",
    "\n",
    "print(confusion_matrix(Y_test, predict))\n",
    "print(roc_auc_score(Y_test,predict))\n",
    "fpr, tpr, _ = roc_curve(Y_test,predict)\n",
    "roc_auc = auc(fpr,tpr)\n",
    "RocCurveDisplay(fpr=fpr,tpr=tpr,roc_auc=roc_auc).plot()"
   ]
  },
  {
   "cell_type": "code",
   "execution_count": null,
   "id": "94797ecc-50f6-4740-9067-a48d1f4bb4b1",
   "metadata": {
    "scrolled": true
   },
   "outputs": [],
   "source": [
    "params = {\n",
    "    'application': 'binary', # for binary classification\n",
    "#     'num_class' : 1, # used for multi-classes\n",
    "    'boosting': 'gbdt', # traditional gradient boosting decision tree\n",
    "    'num_iterations': 100, \n",
    "    'learning_rate': 0.05,\n",
    "    'num_leaves': 62,\n",
    "    'device': 'gpu', # you can use GPU to achieve faster learning\n",
    "    'max_depth': -1, # <0 means no limit\n",
    "    'max_bin': 510, # Small number of bins may reduce training accuracy but can deal with over-fitting\n",
    "    'lambda_l1': 5, # L1 regularization\n",
    "    'lambda_l2': 10, # L2 regularization\n",
    "    'metric' : 'binary_error',\n",
    "    'subsample_for_bin': 200, # number of samples for constructing bins\n",
    "    'subsample': 1, # subsample ratio of the training instance\n",
    "    'colsample_bytree': 0.8, # subsample ratio of columns when constructing the tree\n",
    "    'min_split_gain': 0.5, # minimum loss reduction required to make further partition on a leaf node of the tree\n",
    "    'min_child_weight': 1, # minimum sum of instance weight (hessian) needed in a leaf\n",
    "    'min_child_samples': 5# minimum number of data needed in a leaf\n",
    "}\n",
    "\n",
    "# Initiate classifier to use\n",
    "mdl = lgb.LGBMClassifier(boosting_type= 'gbdt', \n",
    "          objective = 'binary', \n",
    "          n_jobs = 5, \n",
    "          silent = True,\n",
    "          max_depth = params['max_depth'],\n",
    "          max_bin = params['max_bin'], \n",
    "          subsample_for_bin = params['subsample_for_bin'],\n",
    "          subsample = params['subsample'], \n",
    "          min_split_gain = params['min_split_gain'], \n",
    "          min_child_weight = params['min_child_weight'], \n",
    "          min_child_samples = params['min_child_samples'])\n",
    "\n",
    "gridParams = {\n",
    "    'learning_rate': [0.005, 0.01],\n",
    "    'n_estimators': [8,16,24],\n",
    "    'num_leaves': [6,8,12,16], # large num_leaves helps improve accuracy but might lead to over-fitting\n",
    "    'boosting_type' : ['gbdt', 'dart'], # for better accuracy -> try dart\n",
    "    'objective' : ['binary'],\n",
    "    'max_bin':[255, 510], # large max_bin helps improve accuracy but might slow down training progress\n",
    "    'random_state' : [500],\n",
    "    'colsample_bytree' : [0.64, 0.65, 0.66],\n",
    "    'subsample' : [0.7,0.75],\n",
    "    'reg_alpha' : [1,1.2],\n",
    "    'reg_lambda' : [1,1.2,1.4],\n",
    "    }\n",
    "\n",
    "grid = GridSearchCV(mdl, gridParams, verbose=1, cv=4, n_jobs=-1)\n",
    "# Run the grid\n",
    "grid.fit(X_train, Y_train)\n",
    "\n",
    "# Print the best parameters found\n",
    "print(grid.best_params_)\n",
    "print(grid.best_score_)"
   ]
  },
  {
   "cell_type": "code",
   "execution_count": null,
   "id": "f3b40a69",
   "metadata": {
    "scrolled": true
   },
   "outputs": [],
   "source": [
    "data2014_pp_rb = preprocess_cf2_no_growth_rb_log(data2014, get_price_var_col(2014))\n",
    "\n",
    "\n",
    "data2014_pp_rb = data2014_pp_rb.rename(columns = lambda x:re.sub('[^A-Za-z0-9_]+', '', x))\n",
    "y=data2014_pp_rb.dropna()['Class']\n",
    "X=data2014_pp_rb.dropna().drop(columns=['Class'])\n",
    "\n",
    "X_train, X_test, Y_train, Y_test = train_test_split(X, y, test_size=0.3,random_state=17)\n",
    "\n",
    "train_data = lgb.Dataset(X_train, label=Y_train)\n",
    "\n",
    "# Train the LightGBM classifier\n",
    "model = lgb.train(grid, train_data, num_boost_round=100)\n",
    "\n",
    "# Make predictions on the test set\n",
    "y_pred = model.predict(X_test)\n",
    "predict = [1 if pred >= 0.5 else 0 for pred in y_pred]\n",
    "\n",
    "# Evaluate the model\n",
    "accuracy = accuracy_score(Y_test, predict)\n",
    "print('Accuracy:', accuracy)\n",
    "\n",
    "print(confusion_matrix(Y_test, predict))\n",
    "print(roc_auc_score(Y_test,predict))\n",
    "fpr, tpr, _ = roc_curve(Y_test,predict)\n",
    "roc_auc = auc(fpr,tpr)\n",
    "RocCurveDisplay(fpr=fpr,tpr=tpr,roc_auc=roc_auc).plot()"
   ]
  },
  {
   "cell_type": "markdown",
   "id": "f871a27b",
   "metadata": {},
   "source": [
    "### Как ещё улучшить данные?"
   ]
  },
  {
   "cell_type": "code",
   "execution_count": null,
   "id": "14c3b584",
   "metadata": {},
   "outputs": [],
   "source": [
    "def replace_outliers_with_median(column):\n",
    "    Q1 = column.quantile(0.25)\n",
    "    Q3 = column.quantile(0.75)\n",
    "    IQR = Q3 - Q1\n",
    "\n",
    "    lower_bound = Q1 - 1.5 * IQR\n",
    "    upper_bound = Q3 + 1.5 * IQR\n",
    "\n",
    "    outliers = (column < lower_bound) | (column > upper_bound)\n",
    "    column[outliers] = column.median()  # Replace outliers with column median\n",
    "\n",
    "    return column\n",
    "\n",
    "def preprocess_cf2_no_growth_rb_log_replace(df: pd.DataFrame,price_var_col) -> pd.DataFrame:\n",
    "    not_growth_columns=list(filter(lambda x: \"growth\" not in x.lower(),list(df.columns)))\n",
    "\n",
    "    df_no_growth = df[not_growth_columns]\n",
    "    \n",
    "    sector_dict = {}\n",
    "    tmp = df_no_growth[['Sector', 'Class']]\n",
    "    for i in tmp['Sector'].drop_duplicates():\n",
    "        a=tmp[tmp['Sector']==i].value_counts().sort_index().values\n",
    "        sector_dict[i] = a[1]/sum(a)\n",
    "    df_copy = df_no_growth\n",
    "    df_copy['Sector'] = df_copy['Sector'].replace(sector_dict)\n",
    "    df_copy.drop(columns=['Unnamed: 0', price_var_col],axis=1,inplace=True)\n",
    "    float_columns=list(df_copy.select_dtypes(include=['float64']).columns)\n",
    "    float_columns.remove('Sector')\n",
    "    \n",
    "    \n",
    "#     for i in float_columns:\n",
    "#         df_copy[i].fillna(df_copy[i].median(), inplace=True)\n",
    "\n",
    "    imputer = KNNImputer(n_neighbors=20, weights='distance', metric='nan_euclidean', copy=True)\n",
    "    df_copy_clean = imputer.fit_transform(df_copy)\n",
    "    df_copy_clean = pd.DataFrame(df_copy_clean)\n",
    "    df_copy_clean.columns = list(df_copy)\n",
    "\n",
    "    df_for_loging = df_copy_clean.drop(columns=['Class'])\n",
    "    \n",
    "    df_copy_pos = df_for_loging-df_for_loging.min()\n",
    "    \n",
    "    df_copy_pos_logged = np.log1p(df_copy_pos)\n",
    "\n",
    "    df_copy_pos_logged['Class'] = df_copy_clean['Class']\n",
    "    \n",
    "    # df_copy[float_columns] = df_copy[float_columns][(df_copy[float_columns]>df_copy[float_columns].quantile(0.01)) & (df_copy[float_columns]<df_copy[float_columns].quantile(0.99))]\n",
    "    # scaler = RobustScaler(quantile_range=(0.01,0.99))\n",
    "    scaler = RobustScaler()\n",
    "    df2 = df_copy_pos_logged\n",
    "    df2[float_columns] = scaler.fit_transform(df2[float_columns])\n",
    "    \n",
    "#     lower = df2[float_columns].quantile(0.01)\n",
    "#     greater = df2[float_columns].quantile(0.99)\n",
    "    \n",
    "#     df2[float_columns] = (df2[float_columns])[(df2[float_columns] >= lower) & (df2[float_columns] <= greater)]\n",
    "\n",
    "    df2[float_columns] = (df2[float_columns]).apply(replace_outliers_with_median)\n",
    "\n",
    "    return df2.dropna()"
   ]
  },
  {
   "cell_type": "code",
   "execution_count": null,
   "id": "c0cd7802",
   "metadata": {},
   "outputs": [],
   "source": [
    "data2014_pp_rb = preprocess_cf2_no_growth_rb_log(data2014, get_price_var_col(2014))\n",
    "y=data2014_pp_rb.dropna()['Class']\n",
    "X=data2014_pp_rb.dropna().drop(columns=['Class'])\n",
    "X_train, X_test, Y_train, Y_test = train_test_split(X, y, test_size=0.3,random_state=17)\n",
    "model=GradientBoostingClassifier()\n",
    "model.fit(X_train, Y_train)\n",
    "predict=model.predict(X_test)\n",
    "print(confusion_matrix(Y_test, predict))\n",
    "print(roc_auc_score(Y_test,predict))\n",
    "fpr, tpr, _ = roc_curve(Y_test,predict)\n",
    "roc_auc = auc(fpr,tpr)\n",
    "RocCurveDisplay(fpr=fpr,tpr=tpr,roc_auc=roc_auc).plot()"
   ]
  },
  {
   "cell_type": "code",
   "execution_count": null,
   "id": "03f679d9",
   "metadata": {
    "scrolled": true
   },
   "outputs": [],
   "source": [
    "data2018_pp_rb = preprocess_cf2_no_growth_rb_log(data2018, get_price_var_col(2018))\n",
    "y=data2018_pp_rb.dropna()['Class']\n",
    "X=data2018_pp_rb.dropna().drop(columns=['Class'])\n",
    "predict=model.predict(X)\n",
    "print(confusion_matrix(y, predict))\n",
    "print(roc_auc_score(y,predict))\n",
    "fpr, tpr, _ = roc_curve(y,predict)\n",
    "roc_auc = auc(fpr,tpr)\n",
    "RocCurveDisplay(fpr=fpr,tpr=tpr,roc_auc=roc_auc).plot()"
   ]
  },
  {
   "cell_type": "markdown",
   "id": "473e7e23-5a2a-4c0f-a595-e72ea87c8792",
   "metadata": {},
   "source": [
    "## PCA"
   ]
  },
  {
   "cell_type": "code",
   "execution_count": null,
   "id": "60d85398-05d0-4d07-9698-5aa05862fef2",
   "metadata": {},
   "outputs": [],
   "source": [
    "from sklearn.decomposition import PCA"
   ]
  },
  {
   "cell_type": "code",
   "execution_count": null,
   "id": "16258993-a76a-4aaf-85c6-b2e519ad9442",
   "metadata": {},
   "outputs": [],
   "source": [
    "data2014_pp_rb = preprocess_cf2_no_growth_rb_log(data2014, get_price_var_col(2014))\n",
    "y=data2014_pp_rb.dropna()['Class']\n",
    "X=data2014_pp_rb.dropna().drop(columns=['Class'])\n"
   ]
  },
  {
   "cell_type": "code",
   "execution_count": null,
   "id": "fb3c26a9-e83b-461e-8582-1f65e8f58d71",
   "metadata": {},
   "outputs": [],
   "source": [
    "# Perform PCA\n",
    "pca = PCA(n_components=len(list(X.columns)))\n",
    "pca.fit(X)\n",
    "\n",
    "# Calculate explained variance\n",
    "explained_variance = pca.explained_variance_ratio_\n",
    "\n",
    "# Calculate cumulative explained variance\n",
    "cumulative_variance = np.cumsum(explained_variance)\n",
    "\n",
    "# Plot cumulative explained variance\n",
    "plt.plot(range(1, len(cumulative_variance) + 1), cumulative_variance, marker='o')\n",
    "plt.xlabel('Number of Components')\n",
    "plt.ylabel('Cumulative Explained Variance')\n",
    "plt.title('Cumulative Explained Variance vs. Number of Components')\n",
    "plt.grid(True)\n",
    "plt.show()"
   ]
  },
  {
   "cell_type": "code",
   "execution_count": null,
   "id": "42045376-d737-40fd-8e7f-07a2ef8fa54a",
   "metadata": {},
   "outputs": [],
   "source": [
    "data2014copy=data2014.copy()"
   ]
  },
  {
   "cell_type": "code",
   "execution_count": null,
   "id": "74662a16-3686-4559-9d1a-c8920670356a",
   "metadata": {},
   "outputs": [],
   "source": [
    "data2014copy.drop(columns=['Unnamed: 0', '2015 PRICE VAR [%]', 'Class'], inplace=True)"
   ]
  },
  {
   "cell_type": "code",
   "execution_count": null,
   "id": "2e6d0f5b-f6d0-4fcb-89df-f6a7b8d2a843",
   "metadata": {},
   "outputs": [],
   "source": [
    "data2014_pp_rb = preprocess_cf2_no_growth_rb_log(data2014, get_price_var_col(2014))\n",
    "y=data2014_pp_rb['Class']\n",
    "df_pca = data2014_pp_rb.drop(columns=['Class'])"
   ]
  },
  {
   "cell_type": "code",
   "execution_count": null,
   "id": "40859634-75fa-43a0-8abc-2ef3dab46489",
   "metadata": {
    "scrolled": true
   },
   "outputs": [],
   "source": [
    "# Create a PCA instance\n",
    "pca = PCA(n_components=20)  # Specify the number of components you want to retain\n",
    "\n",
    "# Apply PCA to the scaled data\n",
    "pca_result = pca.fit_transform(df_pca)\n",
    "\n",
    "# Create a new dataframe to store the PCA results\n",
    "df_pca_result = pd.DataFrame(data=pca_result, columns=['PC1', 'PC2', 'PC3', 'PC4', 'PC5', 'PC6', 'PC7', 'PC8', 'PC9', 'PC10', 'PC11', 'PC12', 'PC13', 'PC14', 'PC15', 'PC16', 'PC17', 'PC18', 'PC19', 'PC20'])\n",
    "\n",
    "# Concatenate the PCA results with the original dataframe\n",
    "#df_final = pd.concat([data2014_pp_rb, df_pca_result], axis=1)\n",
    "\n",
    "# Print the explained variance ratio\n",
    "print(\"Explained Variance Ratio:\", pca.explained_variance_ratio_)\n",
    "\n",
    "# Print the principal components' loadings or coefficients\n",
    "print(\"Principal Components' Loadings:\")\n",
    "print(pca.components_)\n",
    "\n",
    "# Identify columns with high loadings\n",
    "threshold = 0.5  # Set a threshold for determining high loadings\n",
    "high_loading_columns = []\n",
    "for i, column in enumerate(df_pca.columns):\n",
    "    loading = pca.components_[0, i]  # Use the first principal component (PC1) for simplicity\n",
    "    if abs(loading) >= threshold:\n",
    "        high_loading_columns.append(column)\n",
    "\n",
    "print(\"Columns with high loadings:\")\n",
    "print(high_loading_columns)"
   ]
  },
  {
   "cell_type": "code",
   "execution_count": null,
   "id": "ba267e58-0c19-4a93-beca-3d0bfc1f8e97",
   "metadata": {},
   "outputs": [],
   "source": [
    "#Calculate explained variance\n",
    "explained_variance = pca.explained_variance_ratio_\n",
    "\n",
    "# Calculate cumulative explained variance\n",
    "cumulative_variance = np.cumsum(explained_variance)\n",
    "\n",
    "# Plot cumulative explained variance\n",
    "plt.plot(range(1, len(cumulative_variance) + 1), cumulative_variance, marker='o')\n",
    "plt.xlabel('Number of Components')\n",
    "plt.ylabel('Cumulative Explained Variance')\n",
    "plt.title('Cumulative Explained Variance vs. Number of Components')\n",
    "plt.grid(True)\n",
    "plt.show()"
   ]
  },
  {
   "cell_type": "code",
   "execution_count": null,
   "id": "6de72325-a5f6-48aa-8e46-b9098a98e2b0",
   "metadata": {},
   "outputs": [],
   "source": [
    "np.sum(pca.explained_variance_ratio_)"
   ]
  },
  {
   "cell_type": "code",
   "execution_count": null,
   "id": "e7e10feb-3472-479e-be38-3d61f8dd354b",
   "metadata": {},
   "outputs": [],
   "source": [
    "X_train, X_test, Y_train, Y_test = train_test_split(df_pca_result, y, test_size=0.3,random_state=17)\n",
    "model=GradientBoostingClassifier()\n",
    "model.fit(X_train, Y_train)\n",
    "predict=model.predict(X_test)\n",
    "print(confusion_matrix(Y_test, predict))\n",
    "print(roc_auc_score(Y_test,predict))\n",
    "fpr, tpr, _ = roc_curve(Y_test,predict)\n",
    "roc_auc = auc(fpr,tpr)\n",
    "RocCurveDisplay(fpr=fpr,tpr=tpr,roc_auc=roc_auc).plot()"
   ]
  },
  {
   "cell_type": "markdown",
   "id": "e8b2ead2-a08f-4c32-9698-51d312552ad2",
   "metadata": {},
   "source": [
    "## Убираем потенциально ненужные колонки"
   ]
  },
  {
   "cell_type": "code",
   "execution_count": null,
   "id": "edf7ac85-f87f-4607-8469-f7e68d063377",
   "metadata": {
    "scrolled": true
   },
   "outputs": [],
   "source": [
    "list(data2014.iloc[1])"
   ]
  },
  {
   "cell_type": "code",
   "execution_count": null,
   "id": "4ae354ee-2499-4ce6-a2d5-b4dafb1e8d38",
   "metadata": {},
   "outputs": [],
   "source": [
    "list(filter(lambda x: \"(per Share)\" in x, list(data2014.columns)))"
   ]
  },
  {
   "cell_type": "code",
   "execution_count": null,
   "id": "8dcb9ba0-6657-42e3-926f-df89bc725410",
   "metadata": {},
   "outputs": [],
   "source": [
    "def preprocess_cf2_no_growth_rb_log_new(df: pd.DataFrame,price_var_col) -> pd.DataFrame:\n",
    "    #not_growth_columns=list(filter(lambda x: \"growth\" not in x.lower(),list(df.columns)))\n",
    "\n",
    "    #not_growth_columns=list(filter(lambda x: \"(per Share)\" not in x, list(df.columns)))\n",
    "    df_no_growth = df#[not_growth_columns]\n",
    "    \n",
    "    sector_dict = {}\n",
    "    tmp = df_no_growth[['Sector', 'Class']]\n",
    "    for i in tmp['Sector'].drop_duplicates():\n",
    "        a=tmp[tmp['Sector']==i].value_counts().sort_index().values\n",
    "        sector_dict[i] = a[1]/sum(a)\n",
    "    df_copy = df_no_growth\n",
    "    df_copy['Sector'] = df_copy['Sector'].replace(sector_dict)\n",
    "    df_copy.drop(columns=['Unnamed: 0', price_var_col], axis=1, inplace=True)\n",
    "    float_columns=list(df_copy.select_dtypes(include=['float64']).columns)\n",
    "    float_columns.remove('Sector')\n",
    "    for i in float_columns:\n",
    "        df_copy[i].fillna(df_copy[i].median(), inplace=True)\n",
    "\n",
    "    df_for_loging = df_copy.drop(columns=['Class'])\n",
    "    \n",
    "    df_copy_pos = df_for_loging-df_for_loging.min()\n",
    "    \n",
    "    df_copy_pos_logged = np.log1p(df_copy_pos)\n",
    "\n",
    "    df_copy_pos_logged['Class'] = df_copy['Class']\n",
    "    \n",
    "    # df_copy[float_columns] = df_copy[float_columns][(df_copy[float_columns]>df_copy[float_columns].quantile(0.01)) & (df_copy[float_columns]<df_copy[float_columns].quantile(0.99))]\n",
    "    # scaler = RobustScaler(quantile_range=(0.01,0.99))\n",
    "    scaler = RobustScaler()\n",
    "    df2 = df_copy_pos_logged\n",
    "    df2[float_columns] = scaler.fit_transform(df2[float_columns])\n",
    "    \n",
    "    lower = df2[float_columns].quantile(0.01)\n",
    "    greater = df2[float_columns].quantile(0.99)\n",
    "    df2[float_columns] = (df2[float_columns])[(df2[float_columns] >= lower) & (df2[float_columns] <= greater)]\n",
    "\n",
    "    return df2.dropna()"
   ]
  },
  {
   "cell_type": "code",
   "execution_count": null,
   "id": "f556ae7e-cf5b-4e36-b2a8-ae40dac2783a",
   "metadata": {},
   "outputs": [],
   "source": [
    "data2014_pp_rb = preprocess_cf2_no_growth_rb_log(data2014, get_price_var_col(2014))\n",
    "y=data2014_pp_rb.dropna()['Class']\n",
    "X=data2014_pp_rb.dropna().drop(columns=['Class'])\n",
    "X_train, X_test, Y_train, Y_test = train_test_split(X, y, test_size=0.3,random_state=17)\n",
    "model=GradientBoostingClassifier()\n",
    "model.fit(X_train, Y_train)\n",
    "predict=model.predict(X_test)\n",
    "print(confusion_matrix(Y_test, predict))\n",
    "print(roc_auc_score(Y_test,predict))\n",
    "fpr, tpr, _ = roc_curve(Y_test,predict)\n",
    "roc_auc = auc(fpr,tpr)\n",
    "RocCurveDisplay(fpr=fpr,tpr=tpr,roc_auc=roc_auc).plot()"
   ]
  },
  {
   "cell_type": "code",
   "execution_count": null,
   "id": "820c3258-cde3-4614-90cc-491d0d8b9aa5",
   "metadata": {},
   "outputs": [],
   "source": [
    "data2014 = pd.read_csv(r'C:\\Учеба\\Диплом\\2014_Financial_Data.csv')"
   ]
  },
  {
   "cell_type": "markdown",
   "id": "7c22b8ca-2498-4322-8a4c-49dd3a7c735f",
   "metadata": {},
   "source": [
    "## Попробуем GridSearch again"
   ]
  },
  {
   "cell_type": "code",
   "execution_count": null,
   "id": "acfed6e9-2628-497d-b9ea-82128d3975af",
   "metadata": {},
   "outputs": [],
   "source": [
    "from sklearn.model_selection import GridSearchCV\n",
    "from sklearn.metrics import accuracy_score\n",
    "from sklearn.metrics import precision_score\n",
    "from sklearn.metrics import recall_score\n",
    "from sklearn.metrics import make_scorer\n",
    "#creating Scoring parameter: \n",
    "scoring = {'accuracy': make_scorer(accuracy_score),\n",
    "           'precision': make_scorer(precision_score),'recall':make_scorer(recall_score)}\n",
    "\n",
    "# A sample parameter\n",
    "\n",
    "parameters = {\n",
    "    \"learning_rate\": [0.075, 0.08, 0.085, 0.09, 0.095, 0.1, 0.105, 0.110, 0.115, 0.12, 0.125, 0.13, 0.135, 0.14, 0.145, 0.15, 0.155, 0.16, 0.165, 0.17, 0.175, 0.18, 0.185, 0.19, 0.195, 0.2]\n",
    "    }\n",
    "#passing the scoring function in the GridSearchCV\n",
    "clf = GridSearchCV(GradientBoostingClassifier(), parameters,scoring=scoring,refit=False, n_jobs=-1, verbose=10)\n",
    "\n",
    "clf.fit(X_train, Y_train)\n",
    "#converting the clf.cv_results to dataframe\n",
    "df=pd.DataFrame.from_dict(clf.cv_results_)\n",
    "#here Possible inputs for cross validation is cv=2, there two split split0 and split1\n",
    "df[['split0_test_accuracy','split1_test_accuracy','split0_test_precision','split1_test_precision','split0_test_recall','split1_test_recall']]"
   ]
  },
  {
   "cell_type": "code",
   "execution_count": null,
   "id": "c93b7b66-ec11-402b-9418-57736c6bf4c5",
   "metadata": {},
   "outputs": [],
   "source": [
    "df_pca_result.columns"
   ]
  },
  {
   "cell_type": "code",
   "execution_count": null,
   "id": "f9e218c8-231e-49ca-abad-41806a898779",
   "metadata": {},
   "outputs": [],
   "source": [
    "columns_to_extract = df_pca_result.columns[1:]\n",
    "\n",
    "# Create a new DataFrame with the desired columns\n",
    "df_subset = df_pca_result[columns_to_extract]"
   ]
  },
  {
   "cell_type": "code",
   "execution_count": null,
   "id": "3a2c2e64-5dfc-40d7-bc09-eb2529a3ceaa",
   "metadata": {},
   "outputs": [],
   "source": [
    "df_pca_result.iloc[:,:17].sketch.ask('describe dataset')"
   ]
  },
  {
   "cell_type": "markdown",
   "id": "e2529fff",
   "metadata": {},
   "source": [
    "## Объединяем данные"
   ]
  },
  {
   "cell_type": "code",
   "execution_count": null,
   "id": "e85723b6",
   "metadata": {},
   "outputs": [],
   "source": [
    "data2014 = pd.read_csv(r'D:\\Studies\\4 курс\\diploma\\margo\\2014_Financial_Data.csv')\n",
    "data2015 = pd.read_csv(r'D:\\Studies\\4 курс\\diploma\\margo\\2015_Financial_Data.csv')\n",
    "data2016 = pd.read_csv(r'D:\\Studies\\4 курс\\diploma\\margo\\2016_Financial_Data.csv')\n",
    "data2017 = pd.read_csv(r'D:\\Studies\\4 курс\\diploma\\margo\\2017_Financial_Data.csv')\n",
    "data2018 = pd.read_csv(r'D:\\Studies\\4 курс\\diploma\\margo\\2018_Financial_Data.csv')"
   ]
  },
  {
   "cell_type": "code",
   "execution_count": null,
   "id": "4563509e",
   "metadata": {},
   "outputs": [],
   "source": [
    "data2014['Year'] = 2014\n",
    "data2015['Year'] = 2015\n",
    "data2016['Year'] = 2016\n",
    "data2017['Year'] = 2017\n",
    "data2018['Year'] = 2018"
   ]
  },
  {
   "cell_type": "code",
   "execution_count": null,
   "id": "1327b7d2",
   "metadata": {},
   "outputs": [],
   "source": [
    "def preprocess_cf2_no_growth_rb_log_year(df: pd.DataFrame, year) -> pd.DataFrame:\n",
    "    not_growth_columns=list(filter(lambda x: \"growth\" not in x.lower(),list(df.columns)))\n",
    "\n",
    "    df = df[not_growth_columns]\n",
    "\n",
    "    df['Year'] = year   \n",
    "    \n",
    "    df.rename(columns={f\"{year+1} PRICE VAR [%]\": \"PRICE_VAR\"},inplace=True)\n",
    "    \n",
    "    sector_dict = {}\n",
    "    tmp = df[['Sector', 'Class']]\n",
    "    for i in tmp['Sector'].drop_duplicates():\n",
    "        a=tmp[tmp['Sector']==i].value_counts().sort_index().values\n",
    "        sector_dict[i] = a[1]/sum(a)\n",
    "    df['Sector'] = df['Sector'].replace(sector_dict)\n",
    "    df.drop(columns=['Unnamed: 0', \"PRICE_VAR\"], axis=1, inplace=True)\n",
    "    float_columns=list(df.select_dtypes(include=['float64']).columns)\n",
    "    float_columns.remove('Sector')\n",
    "    for i in float_columns:\n",
    "        df[i].fillna(df[i].median(), inplace=True)\n",
    "\n",
    "#     df_for_loging = df.drop(columns=['Class'])\n",
    "   \n",
    "#     df_copy_pos = df_for_loging-df_for_loging.min()\n",
    "    \n",
    "#     df_copy_pos_logged = np.log1p(df_copy_pos)\n",
    "# \n",
    "#     df_copy_pos_logged['Class'] = df['Class']\n",
    "    \n",
    "#     df_copy[float_columns] = df_copy[float_columns][(df_copy[float_columns]>df_copy[float_columns].quantile(0.01)) & (df_copy[float_columns]<df_copy[float_columns].quantile(0.99))]\n",
    "#     scaler = RobustScaler(quantile_range=(0.01,0.99))\n",
    "    \n",
    "#     df2 = df_copy_pos_logged\n",
    "\n",
    "    df2 = df\n",
    "    \n",
    "#     scaler = RobustScaler()\n",
    "#     df2[float_columns] = scaler.fit_transform(df2[float_columns])\n",
    "    \n",
    "    lower = df2[float_columns].quantile(0.01)\n",
    "    greater = df2[float_columns].quantile(0.99)\n",
    "    df2[float_columns] = (df2[float_columns])[(df2[float_columns] >= lower) & (df2[float_columns] <= greater)]\n",
    "\n",
    "\n",
    "    return df2.dropna()"
   ]
  },
  {
   "cell_type": "code",
   "execution_count": null,
   "id": "f39ef5df",
   "metadata": {},
   "outputs": [],
   "source": [
    "data2014 = pd.read_csv(r'D:\\Studies\\4 курс\\diploma\\margo\\2014_Financial_Data.csv')\n",
    "data2015 = pd.read_csv(r'D:\\Studies\\4 курс\\diploma\\margo\\2015_Financial_Data.csv')\n",
    "data2016 = pd.read_csv(r'D:\\Studies\\4 курс\\diploma\\margo\\2016_Financial_Data.csv')\n",
    "data2017 = pd.read_csv(r'D:\\Studies\\4 курс\\diploma\\margo\\2017_Financial_Data.csv')\n",
    "data2018 = pd.read_csv(r'D:\\Studies\\4 курс\\diploma\\margo\\2018_Financial_Data.csv')\n",
    "\n",
    "data2014_clean = preprocess_cf2_no_growth_rb_log_year(data2014,2014)\n",
    "data2015_clean = preprocess_cf2_no_growth_rb_log_year(data2015,2015)\n",
    "data2016_clean = preprocess_cf2_no_growth_rb_log_year(data2016,2016)\n",
    "data2017_clean = preprocess_cf2_no_growth_rb_log_year(data2017,2017)\n",
    "data2018_clean = preprocess_cf2_no_growth_rb_log_year(data2018,2018)"
   ]
  },
  {
   "cell_type": "code",
   "execution_count": null,
   "id": "c2d43f15",
   "metadata": {},
   "outputs": [],
   "source": [
    "train_data = pd.concat([data2014_clean, data2015_clean, data2016_clean])"
   ]
  },
  {
   "cell_type": "code",
   "execution_count": null,
   "id": "80daf8da",
   "metadata": {},
   "outputs": [],
   "source": [
    "Y_train = train_data['Class']\n",
    "X_train = train_data.drop(columns=['Class'])\n",
    "scaler = RobustScaler()\n",
    "X_train_sc = scaler.fit_transform(X_train)"
   ]
  },
  {
   "cell_type": "code",
   "execution_count": null,
   "id": "a51ae461",
   "metadata": {},
   "outputs": [],
   "source": [
    "model=GradientBoostingClassifier()\n",
    "model.fit(X_train_sc, Y_train)"
   ]
  },
  {
   "cell_type": "code",
   "execution_count": null,
   "id": "01a20c3e",
   "metadata": {},
   "outputs": [],
   "source": [
    "test_data = pd.concat([data2017_clean, data2018_clean])"
   ]
  },
  {
   "cell_type": "code",
   "execution_count": null,
   "id": "a9f790c7",
   "metadata": {},
   "outputs": [],
   "source": [
    "Y_test = test_data['Class']\n",
    "X_test = test_data.drop(columns=['Class'])\n",
    "X_test_sc = scaler.transform(X_test)"
   ]
  },
  {
   "cell_type": "code",
   "execution_count": null,
   "id": "10685620",
   "metadata": {},
   "outputs": [],
   "source": [
    "predict=model.predict(X_test_sc)\n",
    "print(confusion_matrix(Y_test, predict))\n",
    "print(roc_auc_score(Y_test,predict))\n",
    "fpr, tpr, _ = roc_curve(Y_test,predict)\n",
    "roc_auc = auc(fpr,tpr)\n",
    "RocCurveDisplay(fpr=fpr,tpr=tpr,roc_auc=roc_auc).plot()"
   ]
  },
  {
   "cell_type": "markdown",
   "id": "dbe93cc0-0182-4c0f-b3df-a5881e9237f4",
   "metadata": {},
   "source": [
    "## TSNE"
   ]
  },
  {
   "cell_type": "code",
   "execution_count": null,
   "id": "d2559b17",
   "metadata": {},
   "outputs": [],
   "source": [
    "n=5\n",
    "\n",
    "tsne = TSNE(n_components=n, random_state=42,)\n",
    "\n",
    "data2014_pp_rb = preprocess_cf2_no_growth_rb_log(data2014, get_price_var_col(2014))\n",
    "y=data2014_pp_rb.dropna()['Class']\n",
    "X=data2014_pp_rb.dropna().drop(columns=['Class'])\n",
    "X_train, X_test, Y_train, Y_test = train_test_split(X, y, test_size=0.3,random_state=17)\n",
    "\n",
    "\n",
    "\n",
    "# Perform t-SNE on the DataFrame\n",
    "tsne_result = tsne.fit_transform(X_train)\n",
    "\n",
    "# Create a new DataFrame with the t-SNE results\n",
    "tsne_df = pd.DataFrame(tsne_result, columns=['tsne_' + str(i) for i in range(n)])"
   ]
  },
  {
   "cell_type": "code",
   "execution_count": null,
   "id": "ac95babc-1de2-4713-a8a3-ca424d5689f8",
   "metadata": {},
   "outputs": [],
   "source": [
    "tsne_result_test = tsne.fit_transform(X_test)\n",
    "\n",
    "# Create a new DataFrame with the t-SNE results\n",
    "tsne_df_test = pd.DataFrame(tsne_result_test, columns=['tsne_' + str(i) for i in range(n)])"
   ]
  },
  {
   "cell_type": "code",
   "execution_count": null,
   "id": "80c521df",
   "metadata": {},
   "outputs": [],
   "source": [
    "model=GradientBoostingClassifier()\n",
    "model.fit(tsne_df, Y_train)\n",
    "predict=model.predict(tsne_df_test)\n",
    "print(confusion_matrix(Y_test, predict))\n",
    "print(roc_auc_score(Y_test,predict))"
   ]
  },
  {
   "cell_type": "markdown",
   "id": "b6edf694-8a90-4cbd-b7da-99b0647be770",
   "metadata": {},
   "source": [
    "### svd"
   ]
  },
  {
   "cell_type": "code",
   "execution_count": null,
   "id": "bbbafa13-46d0-42d1-9e27-e0a6eee10934",
   "metadata": {},
   "outputs": [],
   "source": [
    "data2014.columns"
   ]
  },
  {
   "cell_type": "code",
   "execution_count": null,
   "id": "2a22b09a-9884-48e0-b862-76dfe303d1fb",
   "metadata": {},
   "outputs": [],
   "source": [
    "def preprocess_cf2_no_growth_rb_log(df: pd.DataFrame,price_var_col) -> pd.DataFrame:\n",
    "    not_growth_columns=list(filter(lambda x: \"growth\" not in x.lower(),list(df.columns)))\n",
    "\n",
    "    df_no_growth = df[not_growth_columns]\n",
    "    \n",
    "    sector_dict = {}\n",
    "    tmp = df_no_growth[['Sector', 'Class']]\n",
    "    for i in tmp['Sector'].drop_duplicates():\n",
    "        a=tmp[tmp['Sector']==i].value_counts().sort_index().values\n",
    "        sector_dict[i] = a[1]/sum(a)\n",
    "    df_copy = df_no_growth\n",
    "    df_copy['Sector'] = df_copy['Sector'].replace(sector_dict)\n",
    "    df_copy.drop(columns=['Unnamed: 0', price_var_col],axis=1,inplace=True)\n",
    "    float_columns=list(df_copy.select_dtypes(include=['float64']).columns)\n",
    "    float_columns.remove('Sector')\n",
    "    \n",
    "\n",
    "    df_for_loging = df_copy.drop(columns=['Class'])\n",
    "    \n",
    "    df_copy_pos = df_for_loging-df_for_loging.min()\n",
    "    \n",
    "    df_copy_pos_logged = np.log1p(df_copy_pos)\n",
    "\n",
    "    df_copy_pos_logged['Class'] = df_copy['Class']\n",
    "    \n",
    "    # df_copy[float_columns] = df_copy[float_columns][(df_copy[float_columns]>df_copy[float_columns].quantile(0.01)) & (df_copy[float_columns]<df_copy[float_columns].quantile(0.99))]\n",
    "    # scaler = RobustScaler(quantile_range=(0.01,0.99))\n",
    "    scaler = RobustScaler()\n",
    "    df2 = df_copy_pos_logged\n",
    "    df2[float_columns] = scaler.fit_transform(df2[float_columns])\n",
    "    \n",
    "    lower = df2[float_columns].quantile(0.01)\n",
    "    greater = df2[float_columns].quantile(0.99)\n",
    "    df2[float_columns] = (df2[float_columns])[(df2[float_columns] >= lower) & (df2[float_columns] <= greater)]\n",
    "\n",
    "    return df2.dropna()"
   ]
  },
  {
   "cell_type": "code",
   "execution_count": null,
   "id": "40964bb1-b290-43df-894e-9b2dedcdc4ed",
   "metadata": {},
   "outputs": [],
   "source": [
    "from sklearn.decomposition import TruncatedSVD\n",
    "\n",
    "# Assuming you have a matrix or DataFrame named \"data\"\n",
    "\n",
    "# Create an instance of TruncatedSVD with the desired number of components\n",
    "svd = TruncatedSVD(n_components=4, random_state=42)\n",
    "\n",
    "\n",
    "data2014_2 = data2014.drop(columns=['Unnamed: 0','Sector', '2015 PRICE VAR [%]', 'Class'])\n",
    "\n",
    "# svd = TruncatedSVD(n_components=len(list(data2014_2.columns)), random_state=42)\n",
    "\n",
    "\n",
    "# Apply SVD to the data\n",
    "for i in data2014_2.columns:\n",
    "    data2014_2[i].fillna(data2014_2[i].median(), inplace=True)\n",
    "\n",
    "\n",
    "svd_result = svd.fit_transform(data2014_2)\n",
    "\n",
    "# The transformed data will have reduced dimensions based on the specified number of components\n",
    "print(list(svd.explained_variance_ratio_))"
   ]
  },
  {
   "cell_type": "markdown",
   "id": "cd250b96-1523-4304-b9ea-bf855014849f",
   "metadata": {},
   "source": [
    "### оставить только Growth"
   ]
  },
  {
   "cell_type": "code",
   "execution_count": null,
   "id": "98e9de1d-ff79-455c-844b-554b3703bbb4",
   "metadata": {},
   "outputs": [],
   "source": [
    "g_cols=list(filter(lambda x: \"growth\" in x.lower(), list(data2014.columns)))"
   ]
  },
  {
   "cell_type": "code",
   "execution_count": null,
   "id": "81576d0f-7a8d-447f-8b03-0791d2ce0223",
   "metadata": {},
   "outputs": [],
   "source": [
    "def preprocess_cf2_with_growth_rb_log(df: pd.DataFrame,price_var_col) -> pd.DataFrame:\n",
    "    growth_columns=list(filter(lambda x: \"ratio\" in x.lower() or \"growth\" in x.lower() or x in [\"Sector\",\"Class\"], list(df.columns)))\n",
    "\n",
    "    df_with_growth = df[growth_columns]\n",
    "    \n",
    "    sector_dict = {}\n",
    "    tmp = df_with_growth[['Sector', 'Class']]\n",
    "    for i in tmp['Sector'].drop_duplicates():\n",
    "        a=tmp[tmp['Sector']==i].value_counts().sort_index().values\n",
    "        sector_dict[i] = a[1]/sum(a)\n",
    "    df_copy = df_with_growth\n",
    "    df_copy['Sector'] = df_copy['Sector'].replace(sector_dict)\n",
    "    # df_copy.drop(columns=['Unnamed: 0', price_var_col],axis=1,inplace=True)\n",
    "    # float_columns=list(df_copy.select_dtypes(include=['float64']).columns)\n",
    "    # float_columns.remove('Sector')\n",
    "    for i in df_copy.columns:\n",
    "        df_copy[i].fillna(df_copy[i].median(), inplace=True)\n",
    "    \n",
    "\n",
    "    df_for_loging = df_copy.drop(columns=['Class'])\n",
    "    \n",
    "    df_copy_pos = df_for_loging-df_for_loging.min()\n",
    "    \n",
    "    df_copy_pos_logged = np.log1p(df_copy_pos)\n",
    "\n",
    "    df_copy_pos_logged['Class'] = df_copy['Class']\n",
    "    \n",
    "    # df_copy[float_columns] = df_copy[float_columns][(df_copy[float_columns]>df_copy[float_columns].quantile(0.01)) & (df_copy[float_columns]<df_copy[float_columns].quantile(0.99))]\n",
    "    # scaler = RobustScaler(quantile_range=(0.01,0.99))\n",
    "    scaler = RobustScaler()\n",
    "    df2 = df_copy_pos_logged\n",
    "    df2 = pd.DataFrame(scaler.fit_transform(df2),columns=df2.columns)\n",
    "    \n",
    "    lower = df2.quantile(0.01)\n",
    "    greater = df2.quantile(0.99)\n",
    "    df2 = (df2)[(df2 >= lower) & (df2 <= greater)]\n",
    "\n",
    "    return df2.dropna()"
   ]
  },
  {
   "cell_type": "code",
   "execution_count": null,
   "id": "8cfad37c-30ee-40f2-8718-c22d57e2646b",
   "metadata": {},
   "outputs": [],
   "source": [
    "data2014_pp_rb = preprocess_cf2_with_growth_rb_log(data2014, get_price_var_col(2014))\n",
    "y=data2014_pp_rb.dropna()['Class']\n",
    "X=data2014_pp_rb.dropna().drop(columns=['Class'])\n",
    "X_train, X_test, Y_train, Y_test = train_test_split(X, y, test_size=0.3,random_state=17)\n",
    "model=GradientBoostingClassifier()\n",
    "model.fit(X_train, Y_train)\n",
    "predict=model.predict(X_test)\n",
    "print(confusion_matrix(Y_test, predict))\n",
    "print(roc_auc_score(Y_test,predict))\n",
    "fpr, tpr, _ = roc_curve(Y_test,predict)\n",
    "roc_auc = auc(fpr,tpr)\n",
    "RocCurveDisplay(fpr=fpr,tpr=tpr,roc_auc=roc_auc).plot()"
   ]
  },
  {
   "cell_type": "code",
   "execution_count": null,
   "id": "8426d9e6-17b6-4588-bd31-377b6c9e9632",
   "metadata": {},
   "outputs": [],
   "source": [
    "pca = PCA()\n",
    "pca.fit(X_train)\n",
    "\n",
    "# Calculate explained variance\n",
    "explained_variance = pca.explained_variance_ratio_\n",
    "\n",
    "# Calculate cumulative explained variance\n",
    "cumulative_variance = np.cumsum(list(reversed(sorted(explained_variance))))\n",
    "\n",
    "# Plot cumulative explained variance\n",
    "plt.plot(range(1, len(cumulative_variance) + 1), cumulative_variance, marker='o')\n",
    "plt.xlabel('Number of Components')\n",
    "plt.ylabel('Cumulative Explained Variance')\n",
    "plt.title('Cumulative Explained Variance vs. Number of Components')\n",
    "plt.grid(True)\n",
    "plt.show()"
   ]
  },
  {
   "cell_type": "code",
   "execution_count": null,
   "id": "d53d3910-24f3-4a43-aed6-058599958e6f",
   "metadata": {},
   "outputs": [],
   "source": [
    "qq=pca.fit(X_train)"
   ]
  },
  {
   "cell_type": "code",
   "execution_count": null,
   "id": "a170d7c3-2bdf-4e7f-99a8-16c446155993",
   "metadata": {},
   "outputs": [],
   "source": [
    "\n",
    "n=10\n",
    "\n",
    "\n",
    "\n",
    "data2014_pp_rb = preprocess_cf2_with_growth_rb_log(data2014, get_price_var_col(2014))\n",
    "y=data2014_pp_rb.dropna()['Class']\n",
    "X=data2014_pp_rb.dropna().drop(columns=['Class'])\n",
    "X_train, X_test, Y_train, Y_test = train_test_split(X, y, test_size=0.3,random_state=17)\n",
    "\n",
    "pca = PCA(n_components=6)\n",
    "X_train_pca = pd.DataFrame(pca.fit_transform(X_train), columns=pca.get_feature_names_out())\n",
    "X_test_pca = pd.DataFrame(pca.transform(X_test), columns=pca.get_feature_names_out())\n",
    "\n",
    "model=GradientBoostingClassifier()\n",
    "model.fit(X_train_pca, Y_train)\n",
    "predict=model.predict(X_test_pca)\n",
    "print(confusion_matrix(Y_test, predict))\n",
    "print(roc_auc_score(Y_test,predict))\n",
    "fpr, tpr, _ = roc_curve(Y_test,predict)\n",
    "roc_auc = auc(fpr,tpr)\n",
    "RocCurveDisplay(fpr=fpr,tpr=tpr,roc_auc=roc_auc).plot()\n",
    "\n",
    "\n",
    "\n"
   ]
  }
 ],
 "metadata": {
  "kernelspec": {
   "display_name": "Python 3 (ipykernel)",
   "language": "python",
   "name": "python3"
  },
  "language_info": {
   "codemirror_mode": {
    "name": "ipython",
    "version": 3
   },
   "file_extension": ".py",
   "mimetype": "text/x-python",
   "name": "python",
   "nbconvert_exporter": "python",
   "pygments_lexer": "ipython3",
   "version": "3.11.7"
  }
 },
 "nbformat": 4,
 "nbformat_minor": 5
}
